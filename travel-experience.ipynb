{
 "cells": [
  {
   "attachments": {},
   "cell_type": "markdown",
   "metadata": {},
   "source": [
    "<h1>Shinkansen Travel Experience</h>"
   ]
  },
  {
   "cell_type": "code",
   "execution_count": 302,
   "metadata": {},
   "outputs": [],
   "source": [
    "import pandas as pd\n",
    "import numpy as np\n",
    "import matplotlib.pyplot as plt\n",
    "import seaborn as sns\n",
    "from sklearn.tree import DecisionTreeClassifier\n",
    "from sklearn.ensemble import RandomForestClassifier, BaggingClassifier, GradientBoostingClassifier, AdaBoostClassifier\n",
    "from sklearn.naive_bayes import GaussianNB\n",
    "from sklearn.linear_model import LogisticRegression\n",
    "from sklearn.model_selection import GridSearchCV\n",
    "from sklearn.svm import SVC"
   ]
  },
  {
   "attachments": {},
   "cell_type": "markdown",
   "metadata": {},
   "source": [
    "The goal of the problem is to predict whether a passenger was satisfied or not considering his/her overall experience of traveling on the Shinkansen Bullet Train.\n",
    "\n",
    "Dataset: \n",
    "\n",
    "The problem consists of 2 separate datasets: Travel data & Survey data. Travel data has information related to passengers and attributes related to the Shinkansen train, in which they traveled. The survey data is aggregated data of surveys indicating the post-service experience. expecting to treat both these datasets as raw data and perform any necessary data cleaning/validation steps as required."
   ]
  },
  {
   "attachments": {},
   "cell_type": "markdown",
   "metadata": {},
   "source": [
    "## Analyzing small portion of raw data"
   ]
  },
  {
   "cell_type": "code",
   "execution_count": 249,
   "metadata": {},
   "outputs": [
    {
     "data": {
      "text/html": [
       "<div>\n",
       "<style scoped>\n",
       "    .dataframe tbody tr th:only-of-type {\n",
       "        vertical-align: middle;\n",
       "    }\n",
       "\n",
       "    .dataframe tbody tr th {\n",
       "        vertical-align: top;\n",
       "    }\n",
       "\n",
       "    .dataframe thead th {\n",
       "        text-align: right;\n",
       "    }\n",
       "</style>\n",
       "<table border=\"1\" class=\"dataframe\">\n",
       "  <thead>\n",
       "    <tr style=\"text-align: right;\">\n",
       "      <th></th>\n",
       "      <th>ID</th>\n",
       "      <th>Overall_Experience</th>\n",
       "      <th>Seat_Comfort</th>\n",
       "      <th>Seat_Class</th>\n",
       "      <th>Arrival_Time_Convenient</th>\n",
       "      <th>Catering</th>\n",
       "      <th>Platform_Location</th>\n",
       "      <th>Onboard_Wifi_Service</th>\n",
       "      <th>Onboard_Entertainment</th>\n",
       "      <th>Online_Support</th>\n",
       "      <th>Ease_of_Online_Booking</th>\n",
       "      <th>Onboard_Service</th>\n",
       "      <th>Legroom</th>\n",
       "      <th>Baggage_Handling</th>\n",
       "      <th>CheckIn_Service</th>\n",
       "      <th>Cleanliness</th>\n",
       "      <th>Online_Boarding</th>\n",
       "    </tr>\n",
       "  </thead>\n",
       "  <tbody>\n",
       "    <tr>\n",
       "      <th>0</th>\n",
       "      <td>98800001</td>\n",
       "      <td>0</td>\n",
       "      <td>Needs Improvement</td>\n",
       "      <td>Green Car</td>\n",
       "      <td>Excellent</td>\n",
       "      <td>Excellent</td>\n",
       "      <td>Very Convenient</td>\n",
       "      <td>Good</td>\n",
       "      <td>Needs Improvement</td>\n",
       "      <td>Acceptable</td>\n",
       "      <td>Needs Improvement</td>\n",
       "      <td>Needs Improvement</td>\n",
       "      <td>Acceptable</td>\n",
       "      <td>Needs Improvement</td>\n",
       "      <td>Good</td>\n",
       "      <td>Needs Improvement</td>\n",
       "      <td>Poor</td>\n",
       "    </tr>\n",
       "    <tr>\n",
       "      <th>1</th>\n",
       "      <td>98800002</td>\n",
       "      <td>0</td>\n",
       "      <td>Poor</td>\n",
       "      <td>Ordinary</td>\n",
       "      <td>Excellent</td>\n",
       "      <td>Poor</td>\n",
       "      <td>Needs Improvement</td>\n",
       "      <td>Good</td>\n",
       "      <td>Poor</td>\n",
       "      <td>Good</td>\n",
       "      <td>Good</td>\n",
       "      <td>Excellent</td>\n",
       "      <td>Needs Improvement</td>\n",
       "      <td>Poor</td>\n",
       "      <td>Needs Improvement</td>\n",
       "      <td>Good</td>\n",
       "      <td>Good</td>\n",
       "    </tr>\n",
       "    <tr>\n",
       "      <th>2</th>\n",
       "      <td>98800003</td>\n",
       "      <td>1</td>\n",
       "      <td>Needs Improvement</td>\n",
       "      <td>Green Car</td>\n",
       "      <td>Needs Improvement</td>\n",
       "      <td>Needs Improvement</td>\n",
       "      <td>Needs Improvement</td>\n",
       "      <td>Needs Improvement</td>\n",
       "      <td>Good</td>\n",
       "      <td>Excellent</td>\n",
       "      <td>Excellent</td>\n",
       "      <td>Excellent</td>\n",
       "      <td>Excellent</td>\n",
       "      <td>Excellent</td>\n",
       "      <td>Good</td>\n",
       "      <td>Excellent</td>\n",
       "      <td>Excellent</td>\n",
       "    </tr>\n",
       "    <tr>\n",
       "      <th>3</th>\n",
       "      <td>98800004</td>\n",
       "      <td>0</td>\n",
       "      <td>Acceptable</td>\n",
       "      <td>Ordinary</td>\n",
       "      <td>Needs Improvement</td>\n",
       "      <td>NaN</td>\n",
       "      <td>Needs Improvement</td>\n",
       "      <td>Acceptable</td>\n",
       "      <td>Needs Improvement</td>\n",
       "      <td>Acceptable</td>\n",
       "      <td>Acceptable</td>\n",
       "      <td>Acceptable</td>\n",
       "      <td>Acceptable</td>\n",
       "      <td>Acceptable</td>\n",
       "      <td>Good</td>\n",
       "      <td>Acceptable</td>\n",
       "      <td>Acceptable</td>\n",
       "    </tr>\n",
       "    <tr>\n",
       "      <th>4</th>\n",
       "      <td>98800005</td>\n",
       "      <td>1</td>\n",
       "      <td>Acceptable</td>\n",
       "      <td>Ordinary</td>\n",
       "      <td>Acceptable</td>\n",
       "      <td>Acceptable</td>\n",
       "      <td>Manageable</td>\n",
       "      <td>Needs Improvement</td>\n",
       "      <td>Good</td>\n",
       "      <td>Excellent</td>\n",
       "      <td>Good</td>\n",
       "      <td>Good</td>\n",
       "      <td>Good</td>\n",
       "      <td>Good</td>\n",
       "      <td>Good</td>\n",
       "      <td>Good</td>\n",
       "      <td>Good</td>\n",
       "    </tr>\n",
       "  </tbody>\n",
       "</table>\n",
       "</div>"
      ],
      "text/plain": [
       "         ID  Overall_Experience       Seat_Comfort Seat_Class  \\\n",
       "0  98800001                   0  Needs Improvement  Green Car   \n",
       "1  98800002                   0               Poor   Ordinary   \n",
       "2  98800003                   1  Needs Improvement  Green Car   \n",
       "3  98800004                   0         Acceptable   Ordinary   \n",
       "4  98800005                   1         Acceptable   Ordinary   \n",
       "\n",
       "  Arrival_Time_Convenient           Catering  Platform_Location  \\\n",
       "0               Excellent          Excellent    Very Convenient   \n",
       "1               Excellent               Poor  Needs Improvement   \n",
       "2       Needs Improvement  Needs Improvement  Needs Improvement   \n",
       "3       Needs Improvement                NaN  Needs Improvement   \n",
       "4              Acceptable         Acceptable         Manageable   \n",
       "\n",
       "  Onboard_Wifi_Service Onboard_Entertainment Online_Support  \\\n",
       "0                 Good     Needs Improvement     Acceptable   \n",
       "1                 Good                  Poor           Good   \n",
       "2    Needs Improvement                  Good      Excellent   \n",
       "3           Acceptable     Needs Improvement     Acceptable   \n",
       "4    Needs Improvement                  Good      Excellent   \n",
       "\n",
       "  Ease_of_Online_Booking    Onboard_Service            Legroom  \\\n",
       "0      Needs Improvement  Needs Improvement         Acceptable   \n",
       "1                   Good          Excellent  Needs Improvement   \n",
       "2              Excellent          Excellent          Excellent   \n",
       "3             Acceptable         Acceptable         Acceptable   \n",
       "4                   Good               Good               Good   \n",
       "\n",
       "    Baggage_Handling    CheckIn_Service        Cleanliness Online_Boarding  \n",
       "0  Needs Improvement               Good  Needs Improvement            Poor  \n",
       "1               Poor  Needs Improvement               Good            Good  \n",
       "2          Excellent               Good          Excellent       Excellent  \n",
       "3         Acceptable               Good         Acceptable      Acceptable  \n",
       "4               Good               Good               Good            Good  "
      ]
     },
     "metadata": {},
     "output_type": "display_data"
    },
    {
     "data": {
      "text/html": [
       "<div>\n",
       "<style scoped>\n",
       "    .dataframe tbody tr th:only-of-type {\n",
       "        vertical-align: middle;\n",
       "    }\n",
       "\n",
       "    .dataframe tbody tr th {\n",
       "        vertical-align: top;\n",
       "    }\n",
       "\n",
       "    .dataframe thead th {\n",
       "        text-align: right;\n",
       "    }\n",
       "</style>\n",
       "<table border=\"1\" class=\"dataframe\">\n",
       "  <thead>\n",
       "    <tr style=\"text-align: right;\">\n",
       "      <th></th>\n",
       "      <th>ID</th>\n",
       "      <th>Seat_Comfort</th>\n",
       "      <th>Seat_Class</th>\n",
       "      <th>Arrival_Time_Convenient</th>\n",
       "      <th>Catering</th>\n",
       "      <th>Platform_Location</th>\n",
       "      <th>Onboard_Wifi_Service</th>\n",
       "      <th>Onboard_Entertainment</th>\n",
       "      <th>Online_Support</th>\n",
       "      <th>Ease_of_Online_Booking</th>\n",
       "      <th>Onboard_Service</th>\n",
       "      <th>Legroom</th>\n",
       "      <th>Baggage_Handling</th>\n",
       "      <th>CheckIn_Service</th>\n",
       "      <th>Cleanliness</th>\n",
       "      <th>Online_Boarding</th>\n",
       "    </tr>\n",
       "  </thead>\n",
       "  <tbody>\n",
       "    <tr>\n",
       "      <th>0</th>\n",
       "      <td>99900001</td>\n",
       "      <td>Acceptable</td>\n",
       "      <td>Green Car</td>\n",
       "      <td>Acceptable</td>\n",
       "      <td>Acceptable</td>\n",
       "      <td>Manageable</td>\n",
       "      <td>Needs Improvement</td>\n",
       "      <td>Excellent</td>\n",
       "      <td>Good</td>\n",
       "      <td>Excellent</td>\n",
       "      <td>Excellent</td>\n",
       "      <td>Excellent</td>\n",
       "      <td>Excellent</td>\n",
       "      <td>Good</td>\n",
       "      <td>Excellent</td>\n",
       "      <td>Poor</td>\n",
       "    </tr>\n",
       "    <tr>\n",
       "      <th>1</th>\n",
       "      <td>99900002</td>\n",
       "      <td>Extremely Poor</td>\n",
       "      <td>Ordinary</td>\n",
       "      <td>Good</td>\n",
       "      <td>Poor</td>\n",
       "      <td>Manageable</td>\n",
       "      <td>Acceptable</td>\n",
       "      <td>Poor</td>\n",
       "      <td>Acceptable</td>\n",
       "      <td>Acceptable</td>\n",
       "      <td>Excellent</td>\n",
       "      <td>Acceptable</td>\n",
       "      <td>Good</td>\n",
       "      <td>Acceptable</td>\n",
       "      <td>Excellent</td>\n",
       "      <td>Acceptable</td>\n",
       "    </tr>\n",
       "    <tr>\n",
       "      <th>2</th>\n",
       "      <td>99900003</td>\n",
       "      <td>Excellent</td>\n",
       "      <td>Ordinary</td>\n",
       "      <td>Excellent</td>\n",
       "      <td>Excellent</td>\n",
       "      <td>Very Convenient</td>\n",
       "      <td>Excellent</td>\n",
       "      <td>Excellent</td>\n",
       "      <td>Excellent</td>\n",
       "      <td>Needs Improvement</td>\n",
       "      <td>Needs Improvement</td>\n",
       "      <td>Needs Improvement</td>\n",
       "      <td>Needs Improvement</td>\n",
       "      <td>Good</td>\n",
       "      <td>Needs Improvement</td>\n",
       "      <td>Excellent</td>\n",
       "    </tr>\n",
       "    <tr>\n",
       "      <th>3</th>\n",
       "      <td>99900004</td>\n",
       "      <td>Acceptable</td>\n",
       "      <td>Green Car</td>\n",
       "      <td>Excellent</td>\n",
       "      <td>Acceptable</td>\n",
       "      <td>Very Convenient</td>\n",
       "      <td>Poor</td>\n",
       "      <td>Acceptable</td>\n",
       "      <td>Excellent</td>\n",
       "      <td>Poor</td>\n",
       "      <td>Acceptable</td>\n",
       "      <td>Needs Improvement</td>\n",
       "      <td>Excellent</td>\n",
       "      <td>Excellent</td>\n",
       "      <td>Excellent</td>\n",
       "      <td>Poor</td>\n",
       "    </tr>\n",
       "    <tr>\n",
       "      <th>4</th>\n",
       "      <td>99900005</td>\n",
       "      <td>Excellent</td>\n",
       "      <td>Ordinary</td>\n",
       "      <td>Extremely Poor</td>\n",
       "      <td>Excellent</td>\n",
       "      <td>Needs Improvement</td>\n",
       "      <td>Excellent</td>\n",
       "      <td>Excellent</td>\n",
       "      <td>Excellent</td>\n",
       "      <td>Excellent</td>\n",
       "      <td>NaN</td>\n",
       "      <td>Acceptable</td>\n",
       "      <td>Excellent</td>\n",
       "      <td>Excellent</td>\n",
       "      <td>Excellent</td>\n",
       "      <td>Excellent</td>\n",
       "    </tr>\n",
       "  </tbody>\n",
       "</table>\n",
       "</div>"
      ],
      "text/plain": [
       "         ID    Seat_Comfort Seat_Class Arrival_Time_Convenient    Catering  \\\n",
       "0  99900001      Acceptable  Green Car              Acceptable  Acceptable   \n",
       "1  99900002  Extremely Poor   Ordinary                    Good        Poor   \n",
       "2  99900003       Excellent   Ordinary               Excellent   Excellent   \n",
       "3  99900004      Acceptable  Green Car               Excellent  Acceptable   \n",
       "4  99900005       Excellent   Ordinary          Extremely Poor   Excellent   \n",
       "\n",
       "   Platform_Location Onboard_Wifi_Service Onboard_Entertainment  \\\n",
       "0         Manageable    Needs Improvement             Excellent   \n",
       "1         Manageable           Acceptable                  Poor   \n",
       "2    Very Convenient            Excellent             Excellent   \n",
       "3    Very Convenient                 Poor            Acceptable   \n",
       "4  Needs Improvement            Excellent             Excellent   \n",
       "\n",
       "  Online_Support Ease_of_Online_Booking    Onboard_Service            Legroom  \\\n",
       "0           Good              Excellent          Excellent          Excellent   \n",
       "1     Acceptable             Acceptable          Excellent         Acceptable   \n",
       "2      Excellent      Needs Improvement  Needs Improvement  Needs Improvement   \n",
       "3      Excellent                   Poor         Acceptable  Needs Improvement   \n",
       "4      Excellent              Excellent                NaN         Acceptable   \n",
       "\n",
       "    Baggage_Handling CheckIn_Service        Cleanliness Online_Boarding  \n",
       "0          Excellent            Good          Excellent            Poor  \n",
       "1               Good      Acceptable          Excellent      Acceptable  \n",
       "2  Needs Improvement            Good  Needs Improvement       Excellent  \n",
       "3          Excellent       Excellent          Excellent            Poor  \n",
       "4          Excellent       Excellent          Excellent       Excellent  "
      ]
     },
     "metadata": {},
     "output_type": "display_data"
    }
   ],
   "source": [
    "survey_df = pd.read_csv(\"Surveydata_train.csv\")\n",
    "survey_df_test = pd.read_csv(\"Surveydata_test.csv\")\n",
    "display(survey_df.head())\n",
    "display(survey_df_test.head())"
   ]
  },
  {
   "cell_type": "code",
   "execution_count": 250,
   "metadata": {},
   "outputs": [
    {
     "name": "stdout",
     "output_type": "stream",
     "text": [
      "<class 'pandas.core.frame.DataFrame'>\n",
      "RangeIndex: 94379 entries, 0 to 94378\n",
      "Data columns (total 17 columns):\n",
      " #   Column                   Non-Null Count  Dtype \n",
      "---  ------                   --------------  ----- \n",
      " 0   ID                       94379 non-null  int64 \n",
      " 1   Overall_Experience       94379 non-null  int64 \n",
      " 2   Seat_Comfort             94318 non-null  object\n",
      " 3   Seat_Class               94379 non-null  object\n",
      " 4   Arrival_Time_Convenient  85449 non-null  object\n",
      " 5   Catering                 85638 non-null  object\n",
      " 6   Platform_Location        94349 non-null  object\n",
      " 7   Onboard_Wifi_Service     94349 non-null  object\n",
      " 8   Onboard_Entertainment    94361 non-null  object\n",
      " 9   Online_Support           94288 non-null  object\n",
      " 10  Ease_of_Online_Booking   94306 non-null  object\n",
      " 11  Onboard_Service          86778 non-null  object\n",
      " 12  Legroom                  94289 non-null  object\n",
      " 13  Baggage_Handling         94237 non-null  object\n",
      " 14  CheckIn_Service          94302 non-null  object\n",
      " 15  Cleanliness              94373 non-null  object\n",
      " 16  Online_Boarding          94373 non-null  object\n",
      "dtypes: int64(2), object(15)\n",
      "memory usage: 12.2+ MB\n"
     ]
    },
    {
     "data": {
      "text/plain": [
       "None"
      ]
     },
     "metadata": {},
     "output_type": "display_data"
    },
    {
     "name": "stdout",
     "output_type": "stream",
     "text": [
      "<class 'pandas.core.frame.DataFrame'>\n",
      "RangeIndex: 35602 entries, 0 to 35601\n",
      "Data columns (total 16 columns):\n",
      " #   Column                   Non-Null Count  Dtype \n",
      "---  ------                   --------------  ----- \n",
      " 0   ID                       35602 non-null  int64 \n",
      " 1   Seat_Comfort             35580 non-null  object\n",
      " 2   Seat_Class               35602 non-null  object\n",
      " 3   Arrival_Time_Convenient  32277 non-null  object\n",
      " 4   Catering                 32245 non-null  object\n",
      " 5   Platform_Location        35590 non-null  object\n",
      " 6   Onboard_Wifi_Service     35590 non-null  object\n",
      " 7   Onboard_Entertainment    35594 non-null  object\n",
      " 8   Online_Support           35576 non-null  object\n",
      " 9   Ease_of_Online_Booking   35584 non-null  object\n",
      " 10  Onboard_Service          32730 non-null  object\n",
      " 11  Legroom                  35577 non-null  object\n",
      " 12  Baggage_Handling         35562 non-null  object\n",
      " 13  CheckIn_Service          35580 non-null  object\n",
      " 14  Cleanliness              35600 non-null  object\n",
      " 15  Online_Boarding          35600 non-null  object\n",
      "dtypes: int64(1), object(15)\n",
      "memory usage: 4.3+ MB\n"
     ]
    },
    {
     "data": {
      "text/plain": [
       "None"
      ]
     },
     "metadata": {},
     "output_type": "display_data"
    }
   ],
   "source": [
    "display(survey_df.info())\n",
    "display(survey_df_test.info())"
   ]
  },
  {
   "cell_type": "code",
   "execution_count": 251,
   "metadata": {},
   "outputs": [
    {
     "data": {
      "text/html": [
       "<div>\n",
       "<style scoped>\n",
       "    .dataframe tbody tr th:only-of-type {\n",
       "        vertical-align: middle;\n",
       "    }\n",
       "\n",
       "    .dataframe tbody tr th {\n",
       "        vertical-align: top;\n",
       "    }\n",
       "\n",
       "    .dataframe thead th {\n",
       "        text-align: right;\n",
       "    }\n",
       "</style>\n",
       "<table border=\"1\" class=\"dataframe\">\n",
       "  <thead>\n",
       "    <tr style=\"text-align: right;\">\n",
       "      <th></th>\n",
       "      <th>Seat_Comfort</th>\n",
       "      <th>Seat_Class</th>\n",
       "      <th>Arrival_Time_Convenient</th>\n",
       "      <th>Catering</th>\n",
       "      <th>Platform_Location</th>\n",
       "      <th>Onboard_Wifi_Service</th>\n",
       "      <th>Onboard_Entertainment</th>\n",
       "      <th>Online_Support</th>\n",
       "      <th>Ease_of_Online_Booking</th>\n",
       "      <th>Onboard_Service</th>\n",
       "      <th>Legroom</th>\n",
       "      <th>Baggage_Handling</th>\n",
       "      <th>CheckIn_Service</th>\n",
       "      <th>Cleanliness</th>\n",
       "      <th>Online_Boarding</th>\n",
       "    </tr>\n",
       "  </thead>\n",
       "  <tbody>\n",
       "    <tr>\n",
       "      <th>count</th>\n",
       "      <td>94318</td>\n",
       "      <td>94379</td>\n",
       "      <td>85449</td>\n",
       "      <td>85638</td>\n",
       "      <td>94349</td>\n",
       "      <td>94349</td>\n",
       "      <td>94361</td>\n",
       "      <td>94288</td>\n",
       "      <td>94306</td>\n",
       "      <td>86778</td>\n",
       "      <td>94289</td>\n",
       "      <td>94237</td>\n",
       "      <td>94302</td>\n",
       "      <td>94373</td>\n",
       "      <td>94373</td>\n",
       "    </tr>\n",
       "    <tr>\n",
       "      <th>unique</th>\n",
       "      <td>6</td>\n",
       "      <td>2</td>\n",
       "      <td>6</td>\n",
       "      <td>6</td>\n",
       "      <td>6</td>\n",
       "      <td>6</td>\n",
       "      <td>6</td>\n",
       "      <td>6</td>\n",
       "      <td>6</td>\n",
       "      <td>6</td>\n",
       "      <td>6</td>\n",
       "      <td>5</td>\n",
       "      <td>6</td>\n",
       "      <td>6</td>\n",
       "      <td>6</td>\n",
       "    </tr>\n",
       "    <tr>\n",
       "      <th>top</th>\n",
       "      <td>Acceptable</td>\n",
       "      <td>Green Car</td>\n",
       "      <td>Good</td>\n",
       "      <td>Acceptable</td>\n",
       "      <td>Manageable</td>\n",
       "      <td>Good</td>\n",
       "      <td>Good</td>\n",
       "      <td>Good</td>\n",
       "      <td>Good</td>\n",
       "      <td>Good</td>\n",
       "      <td>Good</td>\n",
       "      <td>Good</td>\n",
       "      <td>Good</td>\n",
       "      <td>Good</td>\n",
       "      <td>Good</td>\n",
       "    </tr>\n",
       "    <tr>\n",
       "      <th>freq</th>\n",
       "      <td>21158</td>\n",
       "      <td>47435</td>\n",
       "      <td>19574</td>\n",
       "      <td>18468</td>\n",
       "      <td>24173</td>\n",
       "      <td>22835</td>\n",
       "      <td>30446</td>\n",
       "      <td>30016</td>\n",
       "      <td>28909</td>\n",
       "      <td>27265</td>\n",
       "      <td>28870</td>\n",
       "      <td>34944</td>\n",
       "      <td>26502</td>\n",
       "      <td>35427</td>\n",
       "      <td>25533</td>\n",
       "    </tr>\n",
       "  </tbody>\n",
       "</table>\n",
       "</div>"
      ],
      "text/plain": [
       "       Seat_Comfort Seat_Class Arrival_Time_Convenient    Catering  \\\n",
       "count         94318      94379                   85449       85638   \n",
       "unique            6          2                       6           6   \n",
       "top      Acceptable  Green Car                    Good  Acceptable   \n",
       "freq          21158      47435                   19574       18468   \n",
       "\n",
       "       Platform_Location Onboard_Wifi_Service Onboard_Entertainment  \\\n",
       "count              94349                94349                 94361   \n",
       "unique                 6                    6                     6   \n",
       "top           Manageable                 Good                  Good   \n",
       "freq               24173                22835                 30446   \n",
       "\n",
       "       Online_Support Ease_of_Online_Booking Onboard_Service Legroom  \\\n",
       "count           94288                  94306           86778   94289   \n",
       "unique              6                      6               6       6   \n",
       "top              Good                   Good            Good    Good   \n",
       "freq            30016                  28909           27265   28870   \n",
       "\n",
       "       Baggage_Handling CheckIn_Service Cleanliness Online_Boarding  \n",
       "count             94237           94302       94373           94373  \n",
       "unique                5               6           6               6  \n",
       "top                Good            Good        Good            Good  \n",
       "freq              34944           26502       35427           25533  "
      ]
     },
     "metadata": {},
     "output_type": "display_data"
    },
    {
     "data": {
      "text/html": [
       "<div>\n",
       "<style scoped>\n",
       "    .dataframe tbody tr th:only-of-type {\n",
       "        vertical-align: middle;\n",
       "    }\n",
       "\n",
       "    .dataframe tbody tr th {\n",
       "        vertical-align: top;\n",
       "    }\n",
       "\n",
       "    .dataframe thead th {\n",
       "        text-align: right;\n",
       "    }\n",
       "</style>\n",
       "<table border=\"1\" class=\"dataframe\">\n",
       "  <thead>\n",
       "    <tr style=\"text-align: right;\">\n",
       "      <th></th>\n",
       "      <th>Seat_Comfort</th>\n",
       "      <th>Seat_Class</th>\n",
       "      <th>Arrival_Time_Convenient</th>\n",
       "      <th>Catering</th>\n",
       "      <th>Platform_Location</th>\n",
       "      <th>Onboard_Wifi_Service</th>\n",
       "      <th>Onboard_Entertainment</th>\n",
       "      <th>Online_Support</th>\n",
       "      <th>Ease_of_Online_Booking</th>\n",
       "      <th>Onboard_Service</th>\n",
       "      <th>Legroom</th>\n",
       "      <th>Baggage_Handling</th>\n",
       "      <th>CheckIn_Service</th>\n",
       "      <th>Cleanliness</th>\n",
       "      <th>Online_Boarding</th>\n",
       "    </tr>\n",
       "  </thead>\n",
       "  <tbody>\n",
       "    <tr>\n",
       "      <th>count</th>\n",
       "      <td>35580</td>\n",
       "      <td>35602</td>\n",
       "      <td>32277</td>\n",
       "      <td>32245</td>\n",
       "      <td>35590</td>\n",
       "      <td>35590</td>\n",
       "      <td>35594</td>\n",
       "      <td>35576</td>\n",
       "      <td>35584</td>\n",
       "      <td>32730</td>\n",
       "      <td>35577</td>\n",
       "      <td>35562</td>\n",
       "      <td>35580</td>\n",
       "      <td>35600</td>\n",
       "      <td>35600</td>\n",
       "    </tr>\n",
       "    <tr>\n",
       "      <th>unique</th>\n",
       "      <td>6</td>\n",
       "      <td>2</td>\n",
       "      <td>6</td>\n",
       "      <td>6</td>\n",
       "      <td>5</td>\n",
       "      <td>6</td>\n",
       "      <td>6</td>\n",
       "      <td>5</td>\n",
       "      <td>6</td>\n",
       "      <td>5</td>\n",
       "      <td>6</td>\n",
       "      <td>5</td>\n",
       "      <td>5</td>\n",
       "      <td>5</td>\n",
       "      <td>6</td>\n",
       "    </tr>\n",
       "    <tr>\n",
       "      <th>top</th>\n",
       "      <td>Acceptable</td>\n",
       "      <td>Ordinary</td>\n",
       "      <td>Good</td>\n",
       "      <td>Acceptable</td>\n",
       "      <td>Manageable</td>\n",
       "      <td>Good</td>\n",
       "      <td>Good</td>\n",
       "      <td>Good</td>\n",
       "      <td>Good</td>\n",
       "      <td>Good</td>\n",
       "      <td>Good</td>\n",
       "      <td>Good</td>\n",
       "      <td>Good</td>\n",
       "      <td>Good</td>\n",
       "      <td>Good</td>\n",
       "    </tr>\n",
       "    <tr>\n",
       "      <th>freq</th>\n",
       "      <td>8003</td>\n",
       "      <td>17860</td>\n",
       "      <td>7361</td>\n",
       "      <td>7133</td>\n",
       "      <td>9364</td>\n",
       "      <td>8743</td>\n",
       "      <td>11436</td>\n",
       "      <td>11487</td>\n",
       "      <td>11025</td>\n",
       "      <td>10222</td>\n",
       "      <td>10842</td>\n",
       "      <td>13291</td>\n",
       "      <td>9982</td>\n",
       "      <td>13421</td>\n",
       "      <td>9680</td>\n",
       "    </tr>\n",
       "  </tbody>\n",
       "</table>\n",
       "</div>"
      ],
      "text/plain": [
       "       Seat_Comfort Seat_Class Arrival_Time_Convenient    Catering  \\\n",
       "count         35580      35602                   32277       32245   \n",
       "unique            6          2                       6           6   \n",
       "top      Acceptable   Ordinary                    Good  Acceptable   \n",
       "freq           8003      17860                    7361        7133   \n",
       "\n",
       "       Platform_Location Onboard_Wifi_Service Onboard_Entertainment  \\\n",
       "count              35590                35590                 35594   \n",
       "unique                 5                    6                     6   \n",
       "top           Manageable                 Good                  Good   \n",
       "freq                9364                 8743                 11436   \n",
       "\n",
       "       Online_Support Ease_of_Online_Booking Onboard_Service Legroom  \\\n",
       "count           35576                  35584           32730   35577   \n",
       "unique              5                      6               5       6   \n",
       "top              Good                   Good            Good    Good   \n",
       "freq            11487                  11025           10222   10842   \n",
       "\n",
       "       Baggage_Handling CheckIn_Service Cleanliness Online_Boarding  \n",
       "count             35562           35580       35600           35600  \n",
       "unique                5               5           5               6  \n",
       "top                Good            Good        Good            Good  \n",
       "freq              13291            9982       13421            9680  "
      ]
     },
     "metadata": {},
     "output_type": "display_data"
    }
   ],
   "source": [
    "display(survey_df.iloc[:,2:17].describe(include = 'all'))\n",
    "display(survey_df_test.iloc[:,1:16].describe(include = 'all'))"
   ]
  },
  {
   "cell_type": "code",
   "execution_count": 252,
   "metadata": {},
   "outputs": [
    {
     "data": {
      "text/plain": [
       "ID                            0\n",
       "Overall_Experience            0\n",
       "Seat_Comfort                 61\n",
       "Seat_Class                    0\n",
       "Arrival_Time_Convenient    8930\n",
       "Catering                   8741\n",
       "Platform_Location            30\n",
       "Onboard_Wifi_Service         30\n",
       "Onboard_Entertainment        18\n",
       "Online_Support               91\n",
       "Ease_of_Online_Booking       73\n",
       "Onboard_Service            7601\n",
       "Legroom                      90\n",
       "Baggage_Handling            142\n",
       "CheckIn_Service              77\n",
       "Cleanliness                   6\n",
       "Online_Boarding               6\n",
       "dtype: int64"
      ]
     },
     "metadata": {},
     "output_type": "display_data"
    },
    {
     "data": {
      "text/plain": [
       "ID                            0\n",
       "Seat_Comfort                 22\n",
       "Seat_Class                    0\n",
       "Arrival_Time_Convenient    3325\n",
       "Catering                   3357\n",
       "Platform_Location            12\n",
       "Onboard_Wifi_Service         12\n",
       "Onboard_Entertainment         8\n",
       "Online_Support               26\n",
       "Ease_of_Online_Booking       18\n",
       "Onboard_Service            2872\n",
       "Legroom                      25\n",
       "Baggage_Handling             40\n",
       "CheckIn_Service              22\n",
       "Cleanliness                   2\n",
       "Online_Boarding               2\n",
       "dtype: int64"
      ]
     },
     "metadata": {},
     "output_type": "display_data"
    }
   ],
   "source": [
    "display(survey_df.isna().sum())\n",
    "display(survey_df_test.isna().sum())"
   ]
  },
  {
   "cell_type": "code",
   "execution_count": 253,
   "metadata": {},
   "outputs": [
    {
     "data": {
      "text/html": [
       "<div>\n",
       "<style scoped>\n",
       "    .dataframe tbody tr th:only-of-type {\n",
       "        vertical-align: middle;\n",
       "    }\n",
       "\n",
       "    .dataframe tbody tr th {\n",
       "        vertical-align: top;\n",
       "    }\n",
       "\n",
       "    .dataframe thead th {\n",
       "        text-align: right;\n",
       "    }\n",
       "</style>\n",
       "<table border=\"1\" class=\"dataframe\">\n",
       "  <thead>\n",
       "    <tr style=\"text-align: right;\">\n",
       "      <th></th>\n",
       "      <th>ID</th>\n",
       "      <th>Gender</th>\n",
       "      <th>Customer_Type</th>\n",
       "      <th>Age</th>\n",
       "      <th>Type_Travel</th>\n",
       "      <th>Travel_Class</th>\n",
       "      <th>Travel_Distance</th>\n",
       "      <th>Departure_Delay_in_Mins</th>\n",
       "      <th>Arrival_Delay_in_Mins</th>\n",
       "    </tr>\n",
       "  </thead>\n",
       "  <tbody>\n",
       "    <tr>\n",
       "      <th>0</th>\n",
       "      <td>98800001</td>\n",
       "      <td>Female</td>\n",
       "      <td>Loyal Customer</td>\n",
       "      <td>52.0</td>\n",
       "      <td>NaN</td>\n",
       "      <td>Business</td>\n",
       "      <td>272</td>\n",
       "      <td>0.0</td>\n",
       "      <td>5.0</td>\n",
       "    </tr>\n",
       "    <tr>\n",
       "      <th>1</th>\n",
       "      <td>98800002</td>\n",
       "      <td>Male</td>\n",
       "      <td>Loyal Customer</td>\n",
       "      <td>48.0</td>\n",
       "      <td>Personal Travel</td>\n",
       "      <td>Eco</td>\n",
       "      <td>2200</td>\n",
       "      <td>9.0</td>\n",
       "      <td>0.0</td>\n",
       "    </tr>\n",
       "    <tr>\n",
       "      <th>2</th>\n",
       "      <td>98800003</td>\n",
       "      <td>Female</td>\n",
       "      <td>Loyal Customer</td>\n",
       "      <td>43.0</td>\n",
       "      <td>Business Travel</td>\n",
       "      <td>Business</td>\n",
       "      <td>1061</td>\n",
       "      <td>77.0</td>\n",
       "      <td>119.0</td>\n",
       "    </tr>\n",
       "    <tr>\n",
       "      <th>3</th>\n",
       "      <td>98800004</td>\n",
       "      <td>Female</td>\n",
       "      <td>Loyal Customer</td>\n",
       "      <td>44.0</td>\n",
       "      <td>Business Travel</td>\n",
       "      <td>Business</td>\n",
       "      <td>780</td>\n",
       "      <td>13.0</td>\n",
       "      <td>18.0</td>\n",
       "    </tr>\n",
       "    <tr>\n",
       "      <th>4</th>\n",
       "      <td>98800005</td>\n",
       "      <td>Female</td>\n",
       "      <td>Loyal Customer</td>\n",
       "      <td>50.0</td>\n",
       "      <td>Business Travel</td>\n",
       "      <td>Business</td>\n",
       "      <td>1981</td>\n",
       "      <td>0.0</td>\n",
       "      <td>0.0</td>\n",
       "    </tr>\n",
       "  </tbody>\n",
       "</table>\n",
       "</div>"
      ],
      "text/plain": [
       "         ID  Gender   Customer_Type   Age      Type_Travel Travel_Class  \\\n",
       "0  98800001  Female  Loyal Customer  52.0              NaN     Business   \n",
       "1  98800002    Male  Loyal Customer  48.0  Personal Travel          Eco   \n",
       "2  98800003  Female  Loyal Customer  43.0  Business Travel     Business   \n",
       "3  98800004  Female  Loyal Customer  44.0  Business Travel     Business   \n",
       "4  98800005  Female  Loyal Customer  50.0  Business Travel     Business   \n",
       "\n",
       "   Travel_Distance  Departure_Delay_in_Mins  Arrival_Delay_in_Mins  \n",
       "0              272                      0.0                    5.0  \n",
       "1             2200                      9.0                    0.0  \n",
       "2             1061                     77.0                  119.0  \n",
       "3              780                     13.0                   18.0  \n",
       "4             1981                      0.0                    0.0  "
      ]
     },
     "metadata": {},
     "output_type": "display_data"
    },
    {
     "data": {
      "text/html": [
       "<div>\n",
       "<style scoped>\n",
       "    .dataframe tbody tr th:only-of-type {\n",
       "        vertical-align: middle;\n",
       "    }\n",
       "\n",
       "    .dataframe tbody tr th {\n",
       "        vertical-align: top;\n",
       "    }\n",
       "\n",
       "    .dataframe thead th {\n",
       "        text-align: right;\n",
       "    }\n",
       "</style>\n",
       "<table border=\"1\" class=\"dataframe\">\n",
       "  <thead>\n",
       "    <tr style=\"text-align: right;\">\n",
       "      <th></th>\n",
       "      <th>ID</th>\n",
       "      <th>Gender</th>\n",
       "      <th>Customer_Type</th>\n",
       "      <th>Age</th>\n",
       "      <th>Type_Travel</th>\n",
       "      <th>Travel_Class</th>\n",
       "      <th>Travel_Distance</th>\n",
       "      <th>Departure_Delay_in_Mins</th>\n",
       "      <th>Arrival_Delay_in_Mins</th>\n",
       "    </tr>\n",
       "  </thead>\n",
       "  <tbody>\n",
       "    <tr>\n",
       "      <th>0</th>\n",
       "      <td>99900001</td>\n",
       "      <td>Female</td>\n",
       "      <td>NaN</td>\n",
       "      <td>36.0</td>\n",
       "      <td>Business Travel</td>\n",
       "      <td>Business</td>\n",
       "      <td>532</td>\n",
       "      <td>0.0</td>\n",
       "      <td>0.0</td>\n",
       "    </tr>\n",
       "    <tr>\n",
       "      <th>1</th>\n",
       "      <td>99900002</td>\n",
       "      <td>Female</td>\n",
       "      <td>Disloyal Customer</td>\n",
       "      <td>21.0</td>\n",
       "      <td>Business Travel</td>\n",
       "      <td>Business</td>\n",
       "      <td>1425</td>\n",
       "      <td>9.0</td>\n",
       "      <td>28.0</td>\n",
       "    </tr>\n",
       "    <tr>\n",
       "      <th>2</th>\n",
       "      <td>99900003</td>\n",
       "      <td>Male</td>\n",
       "      <td>Loyal Customer</td>\n",
       "      <td>60.0</td>\n",
       "      <td>Business Travel</td>\n",
       "      <td>Business</td>\n",
       "      <td>2832</td>\n",
       "      <td>0.0</td>\n",
       "      <td>0.0</td>\n",
       "    </tr>\n",
       "    <tr>\n",
       "      <th>3</th>\n",
       "      <td>99900004</td>\n",
       "      <td>Female</td>\n",
       "      <td>Loyal Customer</td>\n",
       "      <td>29.0</td>\n",
       "      <td>Personal Travel</td>\n",
       "      <td>Eco</td>\n",
       "      <td>1352</td>\n",
       "      <td>0.0</td>\n",
       "      <td>0.0</td>\n",
       "    </tr>\n",
       "    <tr>\n",
       "      <th>4</th>\n",
       "      <td>99900005</td>\n",
       "      <td>Male</td>\n",
       "      <td>Disloyal Customer</td>\n",
       "      <td>18.0</td>\n",
       "      <td>Business Travel</td>\n",
       "      <td>Business</td>\n",
       "      <td>1610</td>\n",
       "      <td>17.0</td>\n",
       "      <td>0.0</td>\n",
       "    </tr>\n",
       "  </tbody>\n",
       "</table>\n",
       "</div>"
      ],
      "text/plain": [
       "         ID  Gender      Customer_Type   Age      Type_Travel Travel_Class  \\\n",
       "0  99900001  Female                NaN  36.0  Business Travel     Business   \n",
       "1  99900002  Female  Disloyal Customer  21.0  Business Travel     Business   \n",
       "2  99900003    Male     Loyal Customer  60.0  Business Travel     Business   \n",
       "3  99900004  Female     Loyal Customer  29.0  Personal Travel          Eco   \n",
       "4  99900005    Male  Disloyal Customer  18.0  Business Travel     Business   \n",
       "\n",
       "   Travel_Distance  Departure_Delay_in_Mins  Arrival_Delay_in_Mins  \n",
       "0              532                      0.0                    0.0  \n",
       "1             1425                      9.0                   28.0  \n",
       "2             2832                      0.0                    0.0  \n",
       "3             1352                      0.0                    0.0  \n",
       "4             1610                     17.0                    0.0  "
      ]
     },
     "metadata": {},
     "output_type": "display_data"
    }
   ],
   "source": [
    "travel_df = pd.read_csv(\"Traveldata_train.csv\")\n",
    "display(travel_df.head())\n",
    "travel_df_test = pd.read_csv(\"Traveldata_test.csv\")\n",
    "display(travel_df_test.head())"
   ]
  },
  {
   "cell_type": "code",
   "execution_count": 254,
   "metadata": {},
   "outputs": [
    {
     "name": "stdout",
     "output_type": "stream",
     "text": [
      "<class 'pandas.core.frame.DataFrame'>\n",
      "RangeIndex: 94379 entries, 0 to 94378\n",
      "Data columns (total 9 columns):\n",
      " #   Column                   Non-Null Count  Dtype  \n",
      "---  ------                   --------------  -----  \n",
      " 0   ID                       94379 non-null  int64  \n",
      " 1   Gender                   94302 non-null  object \n",
      " 2   Customer_Type            85428 non-null  object \n",
      " 3   Age                      94346 non-null  float64\n",
      " 4   Type_Travel              85153 non-null  object \n",
      " 5   Travel_Class             94379 non-null  object \n",
      " 6   Travel_Distance          94379 non-null  int64  \n",
      " 7   Departure_Delay_in_Mins  94322 non-null  float64\n",
      " 8   Arrival_Delay_in_Mins    94022 non-null  float64\n",
      "dtypes: float64(3), int64(2), object(4)\n",
      "memory usage: 6.5+ MB\n"
     ]
    },
    {
     "data": {
      "text/plain": [
       "None"
      ]
     },
     "metadata": {},
     "output_type": "display_data"
    },
    {
     "name": "stdout",
     "output_type": "stream",
     "text": [
      "<class 'pandas.core.frame.DataFrame'>\n",
      "RangeIndex: 35602 entries, 0 to 35601\n",
      "Data columns (total 9 columns):\n",
      " #   Column                   Non-Null Count  Dtype  \n",
      "---  ------                   --------------  -----  \n",
      " 0   ID                       35602 non-null  int64  \n",
      " 1   Gender                   35572 non-null  object \n",
      " 2   Customer_Type            32219 non-null  object \n",
      " 3   Age                      35591 non-null  float64\n",
      " 4   Type_Travel              32154 non-null  object \n",
      " 5   Travel_Class             35602 non-null  object \n",
      " 6   Travel_Distance          35602 non-null  int64  \n",
      " 7   Departure_Delay_in_Mins  35573 non-null  float64\n",
      " 8   Arrival_Delay_in_Mins    35479 non-null  float64\n",
      "dtypes: float64(3), int64(2), object(4)\n",
      "memory usage: 2.4+ MB\n"
     ]
    },
    {
     "data": {
      "text/plain": [
       "None"
      ]
     },
     "metadata": {},
     "output_type": "display_data"
    }
   ],
   "source": [
    "display(travel_df.info())\n",
    "display(travel_df_test.info())"
   ]
  },
  {
   "cell_type": "code",
   "execution_count": 255,
   "metadata": {},
   "outputs": [
    {
     "data": {
      "text/html": [
       "<div>\n",
       "<style scoped>\n",
       "    .dataframe tbody tr th:only-of-type {\n",
       "        vertical-align: middle;\n",
       "    }\n",
       "\n",
       "    .dataframe tbody tr th {\n",
       "        vertical-align: top;\n",
       "    }\n",
       "\n",
       "    .dataframe thead th {\n",
       "        text-align: right;\n",
       "    }\n",
       "</style>\n",
       "<table border=\"1\" class=\"dataframe\">\n",
       "  <thead>\n",
       "    <tr style=\"text-align: right;\">\n",
       "      <th></th>\n",
       "      <th>Gender</th>\n",
       "      <th>Customer_Type</th>\n",
       "      <th>Age</th>\n",
       "      <th>Type_Travel</th>\n",
       "      <th>Travel_Class</th>\n",
       "      <th>Travel_Distance</th>\n",
       "      <th>Departure_Delay_in_Mins</th>\n",
       "      <th>Arrival_Delay_in_Mins</th>\n",
       "    </tr>\n",
       "  </thead>\n",
       "  <tbody>\n",
       "    <tr>\n",
       "      <th>count</th>\n",
       "      <td>94302</td>\n",
       "      <td>85428</td>\n",
       "      <td>94346.000000</td>\n",
       "      <td>85153</td>\n",
       "      <td>94379</td>\n",
       "      <td>94379.000000</td>\n",
       "      <td>94322.000000</td>\n",
       "      <td>94022.000000</td>\n",
       "    </tr>\n",
       "    <tr>\n",
       "      <th>unique</th>\n",
       "      <td>2</td>\n",
       "      <td>2</td>\n",
       "      <td>NaN</td>\n",
       "      <td>2</td>\n",
       "      <td>2</td>\n",
       "      <td>NaN</td>\n",
       "      <td>NaN</td>\n",
       "      <td>NaN</td>\n",
       "    </tr>\n",
       "    <tr>\n",
       "      <th>top</th>\n",
       "      <td>Female</td>\n",
       "      <td>Loyal Customer</td>\n",
       "      <td>NaN</td>\n",
       "      <td>Business Travel</td>\n",
       "      <td>Eco</td>\n",
       "      <td>NaN</td>\n",
       "      <td>NaN</td>\n",
       "      <td>NaN</td>\n",
       "    </tr>\n",
       "    <tr>\n",
       "      <th>freq</th>\n",
       "      <td>47815</td>\n",
       "      <td>69823</td>\n",
       "      <td>NaN</td>\n",
       "      <td>58617</td>\n",
       "      <td>49342</td>\n",
       "      <td>NaN</td>\n",
       "      <td>NaN</td>\n",
       "      <td>NaN</td>\n",
       "    </tr>\n",
       "    <tr>\n",
       "      <th>mean</th>\n",
       "      <td>NaN</td>\n",
       "      <td>NaN</td>\n",
       "      <td>39.419647</td>\n",
       "      <td>NaN</td>\n",
       "      <td>NaN</td>\n",
       "      <td>1978.888185</td>\n",
       "      <td>14.647092</td>\n",
       "      <td>15.005222</td>\n",
       "    </tr>\n",
       "    <tr>\n",
       "      <th>std</th>\n",
       "      <td>NaN</td>\n",
       "      <td>NaN</td>\n",
       "      <td>15.116632</td>\n",
       "      <td>NaN</td>\n",
       "      <td>NaN</td>\n",
       "      <td>1027.961019</td>\n",
       "      <td>38.138781</td>\n",
       "      <td>38.439409</td>\n",
       "    </tr>\n",
       "    <tr>\n",
       "      <th>min</th>\n",
       "      <td>NaN</td>\n",
       "      <td>NaN</td>\n",
       "      <td>7.000000</td>\n",
       "      <td>NaN</td>\n",
       "      <td>NaN</td>\n",
       "      <td>50.000000</td>\n",
       "      <td>0.000000</td>\n",
       "      <td>0.000000</td>\n",
       "    </tr>\n",
       "    <tr>\n",
       "      <th>25%</th>\n",
       "      <td>NaN</td>\n",
       "      <td>NaN</td>\n",
       "      <td>27.000000</td>\n",
       "      <td>NaN</td>\n",
       "      <td>NaN</td>\n",
       "      <td>1359.000000</td>\n",
       "      <td>0.000000</td>\n",
       "      <td>0.000000</td>\n",
       "    </tr>\n",
       "    <tr>\n",
       "      <th>50%</th>\n",
       "      <td>NaN</td>\n",
       "      <td>NaN</td>\n",
       "      <td>40.000000</td>\n",
       "      <td>NaN</td>\n",
       "      <td>NaN</td>\n",
       "      <td>1923.000000</td>\n",
       "      <td>0.000000</td>\n",
       "      <td>0.000000</td>\n",
       "    </tr>\n",
       "    <tr>\n",
       "      <th>75%</th>\n",
       "      <td>NaN</td>\n",
       "      <td>NaN</td>\n",
       "      <td>51.000000</td>\n",
       "      <td>NaN</td>\n",
       "      <td>NaN</td>\n",
       "      <td>2538.000000</td>\n",
       "      <td>12.000000</td>\n",
       "      <td>13.000000</td>\n",
       "    </tr>\n",
       "    <tr>\n",
       "      <th>max</th>\n",
       "      <td>NaN</td>\n",
       "      <td>NaN</td>\n",
       "      <td>85.000000</td>\n",
       "      <td>NaN</td>\n",
       "      <td>NaN</td>\n",
       "      <td>6951.000000</td>\n",
       "      <td>1592.000000</td>\n",
       "      <td>1584.000000</td>\n",
       "    </tr>\n",
       "  </tbody>\n",
       "</table>\n",
       "</div>"
      ],
      "text/plain": [
       "        Gender   Customer_Type           Age      Type_Travel Travel_Class  \\\n",
       "count    94302           85428  94346.000000            85153        94379   \n",
       "unique       2               2           NaN                2            2   \n",
       "top     Female  Loyal Customer           NaN  Business Travel          Eco   \n",
       "freq     47815           69823           NaN            58617        49342   \n",
       "mean       NaN             NaN     39.419647              NaN          NaN   \n",
       "std        NaN             NaN     15.116632              NaN          NaN   \n",
       "min        NaN             NaN      7.000000              NaN          NaN   \n",
       "25%        NaN             NaN     27.000000              NaN          NaN   \n",
       "50%        NaN             NaN     40.000000              NaN          NaN   \n",
       "75%        NaN             NaN     51.000000              NaN          NaN   \n",
       "max        NaN             NaN     85.000000              NaN          NaN   \n",
       "\n",
       "        Travel_Distance  Departure_Delay_in_Mins  Arrival_Delay_in_Mins  \n",
       "count      94379.000000             94322.000000           94022.000000  \n",
       "unique              NaN                      NaN                    NaN  \n",
       "top                 NaN                      NaN                    NaN  \n",
       "freq                NaN                      NaN                    NaN  \n",
       "mean        1978.888185                14.647092              15.005222  \n",
       "std         1027.961019                38.138781              38.439409  \n",
       "min           50.000000                 0.000000               0.000000  \n",
       "25%         1359.000000                 0.000000               0.000000  \n",
       "50%         1923.000000                 0.000000               0.000000  \n",
       "75%         2538.000000                12.000000              13.000000  \n",
       "max         6951.000000              1592.000000            1584.000000  "
      ]
     },
     "metadata": {},
     "output_type": "display_data"
    },
    {
     "data": {
      "text/html": [
       "<div>\n",
       "<style scoped>\n",
       "    .dataframe tbody tr th:only-of-type {\n",
       "        vertical-align: middle;\n",
       "    }\n",
       "\n",
       "    .dataframe tbody tr th {\n",
       "        vertical-align: top;\n",
       "    }\n",
       "\n",
       "    .dataframe thead th {\n",
       "        text-align: right;\n",
       "    }\n",
       "</style>\n",
       "<table border=\"1\" class=\"dataframe\">\n",
       "  <thead>\n",
       "    <tr style=\"text-align: right;\">\n",
       "      <th></th>\n",
       "      <th>Gender</th>\n",
       "      <th>Customer_Type</th>\n",
       "      <th>Age</th>\n",
       "      <th>Type_Travel</th>\n",
       "      <th>Travel_Class</th>\n",
       "      <th>Travel_Distance</th>\n",
       "      <th>Departure_Delay_in_Mins</th>\n",
       "      <th>Arrival_Delay_in_Mins</th>\n",
       "    </tr>\n",
       "  </thead>\n",
       "  <tbody>\n",
       "    <tr>\n",
       "      <th>count</th>\n",
       "      <td>35572</td>\n",
       "      <td>32219</td>\n",
       "      <td>35591.000000</td>\n",
       "      <td>32154</td>\n",
       "      <td>35602</td>\n",
       "      <td>35602.000000</td>\n",
       "      <td>35573.000000</td>\n",
       "      <td>35479.000000</td>\n",
       "    </tr>\n",
       "    <tr>\n",
       "      <th>unique</th>\n",
       "      <td>2</td>\n",
       "      <td>2</td>\n",
       "      <td>NaN</td>\n",
       "      <td>2</td>\n",
       "      <td>2</td>\n",
       "      <td>NaN</td>\n",
       "      <td>NaN</td>\n",
       "      <td>NaN</td>\n",
       "    </tr>\n",
       "    <tr>\n",
       "      <th>top</th>\n",
       "      <td>Female</td>\n",
       "      <td>Loyal Customer</td>\n",
       "      <td>NaN</td>\n",
       "      <td>Business Travel</td>\n",
       "      <td>Eco</td>\n",
       "      <td>NaN</td>\n",
       "      <td>NaN</td>\n",
       "      <td>NaN</td>\n",
       "    </tr>\n",
       "    <tr>\n",
       "      <th>freq</th>\n",
       "      <td>18069</td>\n",
       "      <td>26349</td>\n",
       "      <td>NaN</td>\n",
       "      <td>22313</td>\n",
       "      <td>18473</td>\n",
       "      <td>NaN</td>\n",
       "      <td>NaN</td>\n",
       "      <td>NaN</td>\n",
       "    </tr>\n",
       "    <tr>\n",
       "      <th>mean</th>\n",
       "      <td>NaN</td>\n",
       "      <td>NaN</td>\n",
       "      <td>39.446995</td>\n",
       "      <td>NaN</td>\n",
       "      <td>NaN</td>\n",
       "      <td>1987.151761</td>\n",
       "      <td>14.880696</td>\n",
       "      <td>15.308802</td>\n",
       "    </tr>\n",
       "    <tr>\n",
       "      <th>std</th>\n",
       "      <td>NaN</td>\n",
       "      <td>NaN</td>\n",
       "      <td>15.137554</td>\n",
       "      <td>NaN</td>\n",
       "      <td>NaN</td>\n",
       "      <td>1024.308863</td>\n",
       "      <td>37.895453</td>\n",
       "      <td>38.531293</td>\n",
       "    </tr>\n",
       "    <tr>\n",
       "      <th>min</th>\n",
       "      <td>NaN</td>\n",
       "      <td>NaN</td>\n",
       "      <td>7.000000</td>\n",
       "      <td>NaN</td>\n",
       "      <td>NaN</td>\n",
       "      <td>50.000000</td>\n",
       "      <td>0.000000</td>\n",
       "      <td>0.000000</td>\n",
       "    </tr>\n",
       "    <tr>\n",
       "      <th>25%</th>\n",
       "      <td>NaN</td>\n",
       "      <td>NaN</td>\n",
       "      <td>27.000000</td>\n",
       "      <td>NaN</td>\n",
       "      <td>NaN</td>\n",
       "      <td>1360.000000</td>\n",
       "      <td>0.000000</td>\n",
       "      <td>0.000000</td>\n",
       "    </tr>\n",
       "    <tr>\n",
       "      <th>50%</th>\n",
       "      <td>NaN</td>\n",
       "      <td>NaN</td>\n",
       "      <td>40.000000</td>\n",
       "      <td>NaN</td>\n",
       "      <td>NaN</td>\n",
       "      <td>1929.000000</td>\n",
       "      <td>0.000000</td>\n",
       "      <td>0.000000</td>\n",
       "    </tr>\n",
       "    <tr>\n",
       "      <th>75%</th>\n",
       "      <td>NaN</td>\n",
       "      <td>NaN</td>\n",
       "      <td>51.000000</td>\n",
       "      <td>NaN</td>\n",
       "      <td>NaN</td>\n",
       "      <td>2559.000000</td>\n",
       "      <td>13.000000</td>\n",
       "      <td>13.000000</td>\n",
       "    </tr>\n",
       "    <tr>\n",
       "      <th>max</th>\n",
       "      <td>NaN</td>\n",
       "      <td>NaN</td>\n",
       "      <td>85.000000</td>\n",
       "      <td>NaN</td>\n",
       "      <td>NaN</td>\n",
       "      <td>6868.000000</td>\n",
       "      <td>978.000000</td>\n",
       "      <td>970.000000</td>\n",
       "    </tr>\n",
       "  </tbody>\n",
       "</table>\n",
       "</div>"
      ],
      "text/plain": [
       "        Gender   Customer_Type           Age      Type_Travel Travel_Class  \\\n",
       "count    35572           32219  35591.000000            32154        35602   \n",
       "unique       2               2           NaN                2            2   \n",
       "top     Female  Loyal Customer           NaN  Business Travel          Eco   \n",
       "freq     18069           26349           NaN            22313        18473   \n",
       "mean       NaN             NaN     39.446995              NaN          NaN   \n",
       "std        NaN             NaN     15.137554              NaN          NaN   \n",
       "min        NaN             NaN      7.000000              NaN          NaN   \n",
       "25%        NaN             NaN     27.000000              NaN          NaN   \n",
       "50%        NaN             NaN     40.000000              NaN          NaN   \n",
       "75%        NaN             NaN     51.000000              NaN          NaN   \n",
       "max        NaN             NaN     85.000000              NaN          NaN   \n",
       "\n",
       "        Travel_Distance  Departure_Delay_in_Mins  Arrival_Delay_in_Mins  \n",
       "count      35602.000000             35573.000000           35479.000000  \n",
       "unique              NaN                      NaN                    NaN  \n",
       "top                 NaN                      NaN                    NaN  \n",
       "freq                NaN                      NaN                    NaN  \n",
       "mean        1987.151761                14.880696              15.308802  \n",
       "std         1024.308863                37.895453              38.531293  \n",
       "min           50.000000                 0.000000               0.000000  \n",
       "25%         1360.000000                 0.000000               0.000000  \n",
       "50%         1929.000000                 0.000000               0.000000  \n",
       "75%         2559.000000                13.000000              13.000000  \n",
       "max         6868.000000               978.000000             970.000000  "
      ]
     },
     "metadata": {},
     "output_type": "display_data"
    }
   ],
   "source": [
    "display(travel_df.iloc[:,1:9].describe(include ='all'))\n",
    "display(travel_df_test.iloc[:,1:9].describe(include ='all'))"
   ]
  },
  {
   "attachments": {},
   "cell_type": "markdown",
   "metadata": {},
   "source": [
    "## Display the total number of missing values in each column of the travel_df and travel_df_test dataframes."
   ]
  },
  {
   "cell_type": "code",
   "execution_count": 256,
   "metadata": {},
   "outputs": [
    {
     "data": {
      "text/plain": [
       "ID                            0\n",
       "Gender                       77\n",
       "Customer_Type              8951\n",
       "Age                          33\n",
       "Type_Travel                9226\n",
       "Travel_Class                  0\n",
       "Travel_Distance               0\n",
       "Departure_Delay_in_Mins      57\n",
       "Arrival_Delay_in_Mins       357\n",
       "dtype: int64"
      ]
     },
     "metadata": {},
     "output_type": "display_data"
    },
    {
     "data": {
      "text/plain": [
       "ID                            0\n",
       "Gender                       30\n",
       "Customer_Type              3383\n",
       "Age                          11\n",
       "Type_Travel                3448\n",
       "Travel_Class                  0\n",
       "Travel_Distance               0\n",
       "Departure_Delay_in_Mins      29\n",
       "Arrival_Delay_in_Mins       123\n",
       "dtype: int64"
      ]
     },
     "metadata": {},
     "output_type": "display_data"
    }
   ],
   "source": [
    "display(travel_df.isna().sum())\n",
    "display(travel_df_test.isna().sum())"
   ]
  },
  {
   "cell_type": "code",
   "execution_count": 217,
   "metadata": {},
   "outputs": [
    {
     "data": {
      "image/png": "[encoded data removed]",
      "text/plain": [
       "<Figure size 1176.62x1000 with 14 Axes>"
      ]
     },
     "metadata": {},
     "output_type": "display_data"
    }
   ],
   "source": [
    "sns.pairplot(travel_df.iloc[:,1:9], corner= True, hue = 'Customer_Type')\n",
    "plt.show()"
   ]
  },
  {
   "cell_type": "code",
   "execution_count": 312,
   "metadata": {},
   "outputs": [],
   "source": [
    "merged_df = pd.merge(survey_df, travel_df, on= 'ID')\n",
    "merged_df_test = pd.merge(survey_df_test, travel_df_test, on= 'ID')"
   ]
  },
  {
   "cell_type": "code",
   "execution_count": 258,
   "metadata": {},
   "outputs": [
    {
     "data": {
      "text/plain": [
       "0"
      ]
     },
     "metadata": {},
     "output_type": "display_data"
    },
    {
     "data": {
      "text/plain": [
       "0"
      ]
     },
     "metadata": {},
     "output_type": "display_data"
    }
   ],
   "source": [
    "merged_df['Seat_Comfort'].fillna('Acceptable', inplace= True)\n",
    "display(merged_df['Seat_Comfort'].isna().sum()) #imputing 'acceptable' value for 'NaN'\n",
    "\n",
    "merged_df_test['Seat_Comfort'].fillna('Acceptable', inplace= True)\n",
    "display(merged_df_test['Seat_Comfort'].isna().sum()) #imputing 'acceptable' value for 'NaN'"
   ]
  },
  {
   "cell_type": "code",
   "execution_count": 259,
   "metadata": {},
   "outputs": [
    {
     "data": {
      "text/plain": [
       "Arrival_Time_Convenient\n",
       "Acceptable           15.283059\n",
       "Excellent            14.551372\n",
       "Extremely Poor       12.960593\n",
       "Good                 15.046130\n",
       "Needs Improvement    15.595622\n",
       "Poor                 15.340761\n",
       "Name: Arrival_Delay_in_Mins, dtype: float64"
      ]
     },
     "metadata": {},
     "output_type": "display_data"
    },
    {
     "data": {
      "text/plain": [
       "Good                 19574\n",
       "Excellent            17684\n",
       "Acceptable           15177\n",
       "Needs Improvement    14990\n",
       "Poor                 13692\n",
       "Extremely Poor        4332\n",
       "Name: Arrival_Time_Convenient, dtype: int64"
      ]
     },
     "metadata": {},
     "output_type": "display_data"
    },
    {
     "data": {
      "text/plain": [
       "Arrival_Time_Convenient\n",
       "Acceptable           15.711809\n",
       "Excellent            15.702209\n",
       "Extremely Poor       12.568510\n",
       "Good                 15.440278\n",
       "Needs Improvement    15.620385\n",
       "Poor                 14.699961\n",
       "Name: Arrival_Delay_in_Mins, dtype: float64"
      ]
     },
     "metadata": {},
     "output_type": "display_data"
    },
    {
     "data": {
      "text/plain": [
       "Good                 7361\n",
       "Excellent            6589\n",
       "Acceptable           5844\n",
       "Needs Improvement    5684\n",
       "Poor                 5131\n",
       "Extremely Poor       1668\n",
       "Name: Arrival_Time_Convenient, dtype: int64"
      ]
     },
     "metadata": {},
     "output_type": "display_data"
    }
   ],
   "source": [
    "display(merged_df.groupby('Arrival_Time_Convenient').mean()['Arrival_Delay_in_Mins'])\n",
    "\n",
    "display(merged_df['Arrival_Time_Convenient'].value_counts())\n",
    "\n",
    "display(merged_df_test.groupby('Arrival_Time_Convenient').mean()['Arrival_Delay_in_Mins'])\n",
    "\n",
    "display(merged_df_test['Arrival_Time_Convenient'].value_counts())"
   ]
  },
  {
   "cell_type": "code",
   "execution_count": 260,
   "metadata": {},
   "outputs": [
    {
     "data": {
      "text/plain": [
       "0"
      ]
     },
     "metadata": {},
     "output_type": "display_data"
    },
    {
     "data": {
      "text/plain": [
       "0"
      ]
     },
     "metadata": {},
     "output_type": "display_data"
    }
   ],
   "source": [
    "merged_df['Arrival_Time_Convenient'].fillna('Good', inplace = True)\n",
    "display(merged_df['Arrival_Time_Convenient'].isna().sum()) #imputing 'good' value for 'NaN'\n",
    "\n",
    "merged_df_test['Arrival_Time_Convenient'].fillna('Good', inplace = True)\n",
    "display(merged_df_test['Arrival_Time_Convenient'].isna().sum())"
   ]
  },
  {
   "cell_type": "code",
   "execution_count": 261,
   "metadata": {},
   "outputs": [],
   "source": [
    "#imputing all columns from survey and Gender and Frequency from travel in merged_df with highest frequency value\n",
    "for i in range (5,19):\n",
    "    merged_df.iloc[:,i].fillna(merged_df.iloc[:,i].value_counts().index[0], inplace = True)    \n",
    "\n",
    "for i in range (4,18):\n",
    "    merged_df_test.iloc[:,i].fillna(merged_df_test.iloc[:,i].value_counts().index[0], inplace = True)  "
   ]
  },
  {
   "attachments": {},
   "cell_type": "markdown",
   "metadata": {},
   "source": [
    "<h4>the following code discretizes the 'Age' feature into five age groups and assigns a label to each group, which will help in creating more meaningful categories for analysis and modeling.</h4>"
   ]
  },
  {
   "cell_type": "code",
   "execution_count": 262,
   "metadata": {},
   "outputs": [
    {
     "data": {
      "text/plain": [
       "'Age:'"
      ]
     },
     "metadata": {},
     "output_type": "display_data"
    },
    {
     "data": {
      "text/plain": [
       "['45', '60', '25', '35', '80', NaN]\n",
       "Categories (5, object): ['25' < '35' < '45' < '60' < '80']"
      ]
     },
     "metadata": {},
     "output_type": "display_data"
    },
    {
     "data": {
      "text/plain": [
       "'Age:'"
      ]
     },
     "metadata": {},
     "output_type": "display_data"
    },
    {
     "data": {
      "text/plain": [
       "['35', '25', '60', '45', '80', NaN]\n",
       "Categories (5, object): ['25' < '35' < '45' < '60' < '80']"
      ]
     },
     "metadata": {},
     "output_type": "display_data"
    }
   ],
   "source": [
    "merged_df['Age'] = pd.cut(merged_df['Age'], 5, labels = ['25', '35', '45', '60', '80'])\n",
    "merged_df_test['Age'] = pd.cut(merged_df_test['Age'], 5, labels = ['25', '35', '45', '60', '80'])\n",
    "\n",
    "display(\"Age:\", merged_df.Age.unique())\n",
    "display(\"Age:\", merged_df_test.Age.unique())"
   ]
  },
  {
   "cell_type": "code",
   "execution_count": 263,
   "metadata": {},
   "outputs": [
    {
     "data": {
      "text/plain": [
       "array([None, '25', None, ..., '25', None, None], dtype=object)"
      ]
     },
     "execution_count": 263,
     "metadata": {},
     "output_type": "execute_result"
    }
   ],
   "source": [
    "np.where(merged_df['Customer_Type'] == 'Loyal Customer', merged_df['Age'], merged_df['Age'].fillna('60', inplace = True))\n",
    "np.where(merged_df['Customer_Type'] == 'Disloyal Customer', merged_df['Age'], merged_df['Age'].fillna('25', inplace = True))\n",
    "np.where(merged_df_test['Customer_Type'] == 'Loyal Customer', merged_df_test['Age'], merged_df_test['Age'].fillna('60', inplace = True))\n",
    "np.where(merged_df_test['Customer_Type'] == 'Disloyal Customer', merged_df_test['Age'], merged_df_test['Age'].fillna('25', inplace = True))"
   ]
  },
  {
   "cell_type": "code",
   "execution_count": 264,
   "metadata": {},
   "outputs": [
    {
     "data": {
      "text/plain": [
       "Travel_Class  Type_Travel    \n",
       "Business      Business Travel    38849\n",
       "              Personal Travel     1791\n",
       "Eco           Business Travel    19768\n",
       "              Personal Travel    24745\n",
       "Name: ID, dtype: int64"
      ]
     },
     "execution_count": 264,
     "metadata": {},
     "output_type": "execute_result"
    }
   ],
   "source": [
    "merged_df.groupby(['Travel_Class', 'Type_Travel']).count()['ID']"
   ]
  },
  {
   "cell_type": "code",
   "execution_count": 265,
   "metadata": {},
   "outputs": [
    {
     "data": {
      "text/plain": [
       "0        Business\n",
       "12       Business\n",
       "15       Business\n",
       "30            Eco\n",
       "39            Eco\n",
       "           ...   \n",
       "94273         Eco\n",
       "94288         Eco\n",
       "94307    Business\n",
       "94328         Eco\n",
       "94378         Eco\n",
       "Name: Travel_Class, Length: 9226, dtype: object"
      ]
     },
     "execution_count": 265,
     "metadata": {},
     "output_type": "execute_result"
    }
   ],
   "source": [
    "#Check for Nan values\n",
    "merged_df[merged_df['Type_Travel'].isna()]['Travel_Class']"
   ]
  },
  {
   "cell_type": "code",
   "execution_count": 266,
   "metadata": {},
   "outputs": [],
   "source": [
    "merged_df['Type_Travel'] = np.where(merged_df['Travel_Class'] == 'Business', merged_df['Type_Travel'], 'Business travel')\n",
    "merged_df['Type_Travel'] = np.where(merged_df['Travel_Class'] == 'Eco', merged_df['Type_Travel'], 'Personal Travel')\n",
    "\n",
    "merged_df_test['Type_Travel'] = np.where(merged_df_test['Travel_Class'] == 'Business', merged_df_test['Type_Travel'], 'Business travel')\n",
    "merged_df_test['Type_Travel'] = np.where(merged_df_test['Travel_Class'] == 'Eco', merged_df_test['Type_Travel'], 'Personal Travel')"
   ]
  },
  {
   "cell_type": "code",
   "execution_count": 267,
   "metadata": {},
   "outputs": [],
   "source": [
    "merged_df['Departure_Delay_in_Mins'].fillna(merged_df['Departure_Delay_in_Mins'].mean(), inplace = True)\n",
    "merged_df['Arrival_Delay_in_Mins'].fillna(merged_df['Arrival_Delay_in_Mins'].mean(), inplace = True)\n",
    "\n",
    "merged_df_test['Departure_Delay_in_Mins'].fillna(merged_df_test['Departure_Delay_in_Mins'].mean(), inplace = True)\n",
    "merged_df_test['Arrival_Delay_in_Mins'].fillna(merged_df_test['Arrival_Delay_in_Mins'].mean(), inplace = True)"
   ]
  },
  {
   "cell_type": "code",
   "execution_count": 268,
   "metadata": {},
   "outputs": [
    {
     "data": {
      "text/plain": [
       "ID                         0\n",
       "Overall_Experience         0\n",
       "Seat_Comfort               0\n",
       "Seat_Class                 0\n",
       "Arrival_Time_Convenient    0\n",
       "Catering                   0\n",
       "Platform_Location          0\n",
       "Onboard_Wifi_Service       0\n",
       "Onboard_Entertainment      0\n",
       "Online_Support             0\n",
       "Ease_of_Online_Booking     0\n",
       "Onboard_Service            0\n",
       "Legroom                    0\n",
       "Baggage_Handling           0\n",
       "CheckIn_Service            0\n",
       "Cleanliness                0\n",
       "Online_Boarding            0\n",
       "Gender                     0\n",
       "Customer_Type              0\n",
       "Age                        0\n",
       "Type_Travel                0\n",
       "Travel_Class               0\n",
       "Travel_Distance            0\n",
       "Departure_Delay_in_Mins    0\n",
       "Arrival_Delay_in_Mins      0\n",
       "dtype: int64"
      ]
     },
     "metadata": {},
     "output_type": "display_data"
    },
    {
     "data": {
      "text/plain": [
       "ID                         0\n",
       "Seat_Comfort               0\n",
       "Seat_Class                 0\n",
       "Arrival_Time_Convenient    0\n",
       "Catering                   0\n",
       "Platform_Location          0\n",
       "Onboard_Wifi_Service       0\n",
       "Onboard_Entertainment      0\n",
       "Online_Support             0\n",
       "Ease_of_Online_Booking     0\n",
       "Onboard_Service            0\n",
       "Legroom                    0\n",
       "Baggage_Handling           0\n",
       "CheckIn_Service            0\n",
       "Cleanliness                0\n",
       "Online_Boarding            0\n",
       "Gender                     0\n",
       "Customer_Type              0\n",
       "Age                        0\n",
       "Type_Travel                0\n",
       "Travel_Class               0\n",
       "Travel_Distance            0\n",
       "Departure_Delay_in_Mins    0\n",
       "Arrival_Delay_in_Mins      0\n",
       "dtype: int64"
      ]
     },
     "metadata": {},
     "output_type": "display_data"
    }
   ],
   "source": [
    "display(merged_df.isna().sum())\n",
    "display(merged_df_test.isna().sum())"
   ]
  },
  {
   "attachments": {},
   "cell_type": "markdown",
   "metadata": {},
   "source": [
    "<h4>The following code replaces the string values of ordinal categories with corresponding numerical values, in order to perform computations and analysis on these categorical variables.</h4>"
   ]
  },
  {
   "cell_type": "code",
   "execution_count": 269,
   "metadata": {},
   "outputs": [],
   "source": [
    "#Encoded column value replacement for ordinal categories in merged_df\n",
    "\n",
    "cols_to_replace = ['Seat_Comfort', 'Arrival_Time_Convenient', 'Catering', 'Onboard_Wifi_Service',\n",
    "                   'Onboard_Entertainment', 'Online_Support', 'Ease_of_Online_Booking',\n",
    "                   'Onboard_Service','Legroom', 'CheckIn_Service',  'Cleanliness',\n",
    "                   'Online_Boarding', 'Baggage_Handling']\n",
    "\n",
    "for col in cols_to_replace:\n",
    "    merged_df[col].replace(['Excellent', 'Good', 'Acceptable', 'Needs Improvement', 'Poor', 'Extremely Poor'],\n",
    "                           [5, 4, 3, 2, 1, 0], inplace=True)\n",
    "    merged_df_test[col].replace(['Excellent', 'Good', 'Acceptable', 'Needs Improvement', 'Poor', 'Extremely Poor'],\n",
    "                           [5, 4, 3, 2, 1, 0], inplace=True)\n"
   ]
  },
  {
   "cell_type": "code",
   "execution_count": 270,
   "metadata": {},
   "outputs": [
    {
     "name": "stdout",
     "output_type": "stream",
     "text": [
      "<class 'pandas.core.frame.DataFrame'>\n",
      "Int64Index: 35602 entries, 0 to 35601\n",
      "Data columns (total 24 columns):\n",
      " #   Column                   Non-Null Count  Dtype   \n",
      "---  ------                   --------------  -----   \n",
      " 0   ID                       35602 non-null  int64   \n",
      " 1   Seat_Comfort             35602 non-null  int64   \n",
      " 2   Seat_Class               35602 non-null  object  \n",
      " 3   Arrival_Time_Convenient  35602 non-null  int64   \n",
      " 4   Catering                 35602 non-null  int64   \n",
      " 5   Platform_Location        35602 non-null  object  \n",
      " 6   Onboard_Wifi_Service     35602 non-null  int64   \n",
      " 7   Onboard_Entertainment    35602 non-null  int64   \n",
      " 8   Online_Support           35602 non-null  int64   \n",
      " 9   Ease_of_Online_Booking   35602 non-null  int64   \n",
      " 10  Onboard_Service          35602 non-null  int64   \n",
      " 11  Legroom                  35602 non-null  int64   \n",
      " 12  Baggage_Handling         35602 non-null  int64   \n",
      " 13  CheckIn_Service          35602 non-null  int64   \n",
      " 14  Cleanliness              35602 non-null  int64   \n",
      " 15  Online_Boarding          35602 non-null  int64   \n",
      " 16  Gender                   35602 non-null  object  \n",
      " 17  Customer_Type            35602 non-null  object  \n",
      " 18  Age                      35602 non-null  category\n",
      " 19  Type_Travel              35602 non-null  object  \n",
      " 20  Travel_Class             35602 non-null  object  \n",
      " 21  Travel_Distance          35602 non-null  int64   \n",
      " 22  Departure_Delay_in_Mins  35602 non-null  float64 \n",
      " 23  Arrival_Delay_in_Mins    35602 non-null  float64 \n",
      "dtypes: category(1), float64(2), int64(15), object(6)\n",
      "memory usage: 6.6+ MB\n"
     ]
    }
   ],
   "source": [
    "merged_df_test.info()"
   ]
  },
  {
   "attachments": {},
   "cell_type": "markdown",
   "metadata": {},
   "source": [
    "<h4>applying replacements and mappings to several columns in the merged_df and merged_df_test data frames in order to encode ordinal and categorical variables, respectively.</h4>"
   ]
  },
  {
   "cell_type": "code",
   "execution_count": 271,
   "metadata": {},
   "outputs": [],
   "source": [
    "# List of columns to be processed\n",
    "columns = ['Platform_Location', 'Gender', 'Customer_Type', 'Type_Travel', 'Travel_Class']\n",
    "\n",
    "# Loop through columns and apply replacements in merged_df(_test)\n",
    "for col in columns:\n",
    "    merged_df[col].replace(['Very Convenient', 'Needs Improvement', 'Manageable', 'Inconvenient', 'Convenient', 'Very Inconvenient'],\n",
    "                            [5, 2, 3, 1, 4, 0], inplace=True)\n",
    "    merged_df_test[col].replace(['Very Convenient', 'Needs Improvement', 'Manageable', 'Inconvenient', 'Convenient', 'Very Inconvenient'],\n",
    "                                 [5, 2, 3, 1, 4, 0], inplace=True)\n",
    "\n",
    "# Define mapping for the remaining columns\n",
    "mapping = {'Gender': {'Female': 0, 'Male': 1},\n",
    "            'Seat_Class': {'Green Car': 0, 'Ordinary': 1},\n",
    "           'Customer_Type': {'Loyal Customer': 0, 'Disloyal Customer': 1},\n",
    "           'Type_Travel': {'Business travel': 0, 'Personal Travel': 1},\n",
    "           'Travel_Class': {'Business': 0, 'Eco': 1}}\n",
    "\n",
    "# Loop through columns and apply mappings in merged_df(_test)\n",
    "for col, mapping_dict in mapping.items():\n",
    "    merged_df[col].replace(mapping_dict, inplace=True)\n",
    "    merged_df_test[col].replace(mapping_dict, inplace=True)"
   ]
  },
  {
   "cell_type": "code",
   "execution_count": 272,
   "metadata": {},
   "outputs": [],
   "source": [
    "for feature in merged_df.columns:\n",
    "    if merged_df[feature].dtype == 'object':\n",
    "        merged_df[feature] = pd.Categorical(merged_df[feature])\n",
    "        \n",
    "merged_df = pd.get_dummies(merged_df, columns = ['Age'])\n",
    "\n",
    "for feature in merged_df_test.columns:\n",
    "    if merged_df_test[feature].dtype == 'object':\n",
    "        merged_df_test[feature] = pd.Categorical(merged_df_test[feature])\n",
    "        \n",
    "merged_df_test = pd.get_dummies(merged_df_test, columns = ['Age'])"
   ]
  },
  {
   "cell_type": "code",
   "execution_count": 273,
   "metadata": {},
   "outputs": [
    {
     "name": "stdout",
     "output_type": "stream",
     "text": [
      "<class 'pandas.core.frame.DataFrame'>\n",
      "Int64Index: 94379 entries, 0 to 94378\n",
      "Data columns (total 29 columns):\n",
      " #   Column                   Non-Null Count  Dtype  \n",
      "---  ------                   --------------  -----  \n",
      " 0   ID                       94379 non-null  int64  \n",
      " 1   Overall_Experience       94379 non-null  int64  \n",
      " 2   Seat_Comfort             94379 non-null  int64  \n",
      " 3   Seat_Class               94379 non-null  int64  \n",
      " 4   Arrival_Time_Convenient  94379 non-null  int64  \n",
      " 5   Catering                 94379 non-null  int64  \n",
      " 6   Platform_Location        94379 non-null  int64  \n",
      " 7   Onboard_Wifi_Service     94379 non-null  int64  \n",
      " 8   Onboard_Entertainment    94379 non-null  int64  \n",
      " 9   Online_Support           94379 non-null  int64  \n",
      " 10  Ease_of_Online_Booking   94379 non-null  int64  \n",
      " 11  Onboard_Service          94379 non-null  int64  \n",
      " 12  Legroom                  94379 non-null  int64  \n",
      " 13  Baggage_Handling         94379 non-null  int64  \n",
      " 14  CheckIn_Service          94379 non-null  int64  \n",
      " 15  Cleanliness              94379 non-null  int64  \n",
      " 16  Online_Boarding          94379 non-null  int64  \n",
      " 17  Gender                   94379 non-null  int64  \n",
      " 18  Customer_Type            94379 non-null  int64  \n",
      " 19  Type_Travel              94379 non-null  int64  \n",
      " 20  Travel_Class             94379 non-null  int64  \n",
      " 21  Travel_Distance          94379 non-null  int64  \n",
      " 22  Departure_Delay_in_Mins  94379 non-null  float64\n",
      " 23  Arrival_Delay_in_Mins    94379 non-null  float64\n",
      " 24  Age_25                   94379 non-null  uint8  \n",
      " 25  Age_35                   94379 non-null  uint8  \n",
      " 26  Age_45                   94379 non-null  uint8  \n",
      " 27  Age_60                   94379 non-null  uint8  \n",
      " 28  Age_80                   94379 non-null  uint8  \n",
      "dtypes: float64(2), int64(22), uint8(5)\n",
      "memory usage: 18.5 MB\n"
     ]
    },
    {
     "data": {
      "text/plain": [
       "None"
      ]
     },
     "metadata": {},
     "output_type": "display_data"
    },
    {
     "name": "stdout",
     "output_type": "stream",
     "text": [
      "<class 'pandas.core.frame.DataFrame'>\n",
      "Int64Index: 35602 entries, 0 to 35601\n",
      "Data columns (total 28 columns):\n",
      " #   Column                   Non-Null Count  Dtype  \n",
      "---  ------                   --------------  -----  \n",
      " 0   ID                       35602 non-null  int64  \n",
      " 1   Seat_Comfort             35602 non-null  int64  \n",
      " 2   Seat_Class               35602 non-null  int64  \n",
      " 3   Arrival_Time_Convenient  35602 non-null  int64  \n",
      " 4   Catering                 35602 non-null  int64  \n",
      " 5   Platform_Location        35602 non-null  int64  \n",
      " 6   Onboard_Wifi_Service     35602 non-null  int64  \n",
      " 7   Onboard_Entertainment    35602 non-null  int64  \n",
      " 8   Online_Support           35602 non-null  int64  \n",
      " 9   Ease_of_Online_Booking   35602 non-null  int64  \n",
      " 10  Onboard_Service          35602 non-null  int64  \n",
      " 11  Legroom                  35602 non-null  int64  \n",
      " 12  Baggage_Handling         35602 non-null  int64  \n",
      " 13  CheckIn_Service          35602 non-null  int64  \n",
      " 14  Cleanliness              35602 non-null  int64  \n",
      " 15  Online_Boarding          35602 non-null  int64  \n",
      " 16  Gender                   35602 non-null  int64  \n",
      " 17  Customer_Type            35602 non-null  int64  \n",
      " 18  Type_Travel              35602 non-null  int64  \n",
      " 19  Travel_Class             35602 non-null  int64  \n",
      " 20  Travel_Distance          35602 non-null  int64  \n",
      " 21  Departure_Delay_in_Mins  35602 non-null  float64\n",
      " 22  Arrival_Delay_in_Mins    35602 non-null  float64\n",
      " 23  Age_25                   35602 non-null  uint8  \n",
      " 24  Age_35                   35602 non-null  uint8  \n",
      " 25  Age_45                   35602 non-null  uint8  \n",
      " 26  Age_60                   35602 non-null  uint8  \n",
      " 27  Age_80                   35602 non-null  uint8  \n",
      "dtypes: float64(2), int64(21), uint8(5)\n",
      "memory usage: 6.7 MB\n"
     ]
    },
    {
     "data": {
      "text/plain": [
       "None"
      ]
     },
     "metadata": {},
     "output_type": "display_data"
    }
   ],
   "source": [
    "display(merged_df.info())\n",
    "display(merged_df_test.info())"
   ]
  },
  {
   "cell_type": "code",
   "execution_count": 274,
   "metadata": {},
   "outputs": [
    {
     "data": {
      "text/html": [
       "<div>\n",
       "<style scoped>\n",
       "    .dataframe tbody tr th:only-of-type {\n",
       "        vertical-align: middle;\n",
       "    }\n",
       "\n",
       "    .dataframe tbody tr th {\n",
       "        vertical-align: top;\n",
       "    }\n",
       "\n",
       "    .dataframe thead th {\n",
       "        text-align: right;\n",
       "    }\n",
       "</style>\n",
       "<table border=\"1\" class=\"dataframe\">\n",
       "  <thead>\n",
       "    <tr style=\"text-align: right;\">\n",
       "      <th></th>\n",
       "      <th>Seat_Comfort</th>\n",
       "      <th>Seat_Class</th>\n",
       "      <th>Arrival_Time_Convenient</th>\n",
       "      <th>Catering</th>\n",
       "      <th>Platform_Location</th>\n",
       "      <th>Onboard_Wifi_Service</th>\n",
       "      <th>Onboard_Entertainment</th>\n",
       "      <th>Online_Support</th>\n",
       "      <th>Ease_of_Online_Booking</th>\n",
       "      <th>Onboard_Service</th>\n",
       "      <th>...</th>\n",
       "      <th>Gender</th>\n",
       "      <th>Customer_Type</th>\n",
       "      <th>Type_Travel</th>\n",
       "      <th>Travel_Class</th>\n",
       "      <th>Travel_Distance</th>\n",
       "      <th>Age_25</th>\n",
       "      <th>Age_35</th>\n",
       "      <th>Age_45</th>\n",
       "      <th>Age_60</th>\n",
       "      <th>Age_80</th>\n",
       "    </tr>\n",
       "  </thead>\n",
       "  <tbody>\n",
       "    <tr>\n",
       "      <th>0</th>\n",
       "      <td>3</td>\n",
       "      <td>0</td>\n",
       "      <td>3</td>\n",
       "      <td>3</td>\n",
       "      <td>3</td>\n",
       "      <td>2</td>\n",
       "      <td>5</td>\n",
       "      <td>4</td>\n",
       "      <td>5</td>\n",
       "      <td>5</td>\n",
       "      <td>...</td>\n",
       "      <td>0</td>\n",
       "      <td>0</td>\n",
       "      <td>1</td>\n",
       "      <td>0</td>\n",
       "      <td>532</td>\n",
       "      <td>0</td>\n",
       "      <td>1</td>\n",
       "      <td>0</td>\n",
       "      <td>0</td>\n",
       "      <td>0</td>\n",
       "    </tr>\n",
       "    <tr>\n",
       "      <th>1</th>\n",
       "      <td>0</td>\n",
       "      <td>1</td>\n",
       "      <td>4</td>\n",
       "      <td>1</td>\n",
       "      <td>3</td>\n",
       "      <td>3</td>\n",
       "      <td>1</td>\n",
       "      <td>3</td>\n",
       "      <td>3</td>\n",
       "      <td>5</td>\n",
       "      <td>...</td>\n",
       "      <td>0</td>\n",
       "      <td>1</td>\n",
       "      <td>1</td>\n",
       "      <td>0</td>\n",
       "      <td>1425</td>\n",
       "      <td>1</td>\n",
       "      <td>0</td>\n",
       "      <td>0</td>\n",
       "      <td>0</td>\n",
       "      <td>0</td>\n",
       "    </tr>\n",
       "    <tr>\n",
       "      <th>2</th>\n",
       "      <td>5</td>\n",
       "      <td>1</td>\n",
       "      <td>5</td>\n",
       "      <td>5</td>\n",
       "      <td>5</td>\n",
       "      <td>5</td>\n",
       "      <td>5</td>\n",
       "      <td>5</td>\n",
       "      <td>2</td>\n",
       "      <td>2</td>\n",
       "      <td>...</td>\n",
       "      <td>1</td>\n",
       "      <td>0</td>\n",
       "      <td>1</td>\n",
       "      <td>0</td>\n",
       "      <td>2832</td>\n",
       "      <td>0</td>\n",
       "      <td>0</td>\n",
       "      <td>0</td>\n",
       "      <td>1</td>\n",
       "      <td>0</td>\n",
       "    </tr>\n",
       "    <tr>\n",
       "      <th>3</th>\n",
       "      <td>3</td>\n",
       "      <td>0</td>\n",
       "      <td>5</td>\n",
       "      <td>3</td>\n",
       "      <td>5</td>\n",
       "      <td>1</td>\n",
       "      <td>3</td>\n",
       "      <td>5</td>\n",
       "      <td>1</td>\n",
       "      <td>3</td>\n",
       "      <td>...</td>\n",
       "      <td>0</td>\n",
       "      <td>0</td>\n",
       "      <td>0</td>\n",
       "      <td>1</td>\n",
       "      <td>1352</td>\n",
       "      <td>0</td>\n",
       "      <td>1</td>\n",
       "      <td>0</td>\n",
       "      <td>0</td>\n",
       "      <td>0</td>\n",
       "    </tr>\n",
       "    <tr>\n",
       "      <th>4</th>\n",
       "      <td>5</td>\n",
       "      <td>1</td>\n",
       "      <td>0</td>\n",
       "      <td>5</td>\n",
       "      <td>2</td>\n",
       "      <td>5</td>\n",
       "      <td>5</td>\n",
       "      <td>5</td>\n",
       "      <td>5</td>\n",
       "      <td>4</td>\n",
       "      <td>...</td>\n",
       "      <td>1</td>\n",
       "      <td>1</td>\n",
       "      <td>1</td>\n",
       "      <td>0</td>\n",
       "      <td>1610</td>\n",
       "      <td>1</td>\n",
       "      <td>0</td>\n",
       "      <td>0</td>\n",
       "      <td>0</td>\n",
       "      <td>0</td>\n",
       "    </tr>\n",
       "  </tbody>\n",
       "</table>\n",
       "<p>5 rows × 25 columns</p>\n",
       "</div>"
      ],
      "text/plain": [
       "   Seat_Comfort  Seat_Class  Arrival_Time_Convenient  Catering  \\\n",
       "0             3           0                        3         3   \n",
       "1             0           1                        4         1   \n",
       "2             5           1                        5         5   \n",
       "3             3           0                        5         3   \n",
       "4             5           1                        0         5   \n",
       "\n",
       "   Platform_Location  Onboard_Wifi_Service  Onboard_Entertainment  \\\n",
       "0                  3                     2                      5   \n",
       "1                  3                     3                      1   \n",
       "2                  5                     5                      5   \n",
       "3                  5                     1                      3   \n",
       "4                  2                     5                      5   \n",
       "\n",
       "   Online_Support  Ease_of_Online_Booking  Onboard_Service  ...  Gender  \\\n",
       "0               4                       5                5  ...       0   \n",
       "1               3                       3                5  ...       0   \n",
       "2               5                       2                2  ...       1   \n",
       "3               5                       1                3  ...       0   \n",
       "4               5                       5                4  ...       1   \n",
       "\n",
       "   Customer_Type  Type_Travel  Travel_Class  Travel_Distance  Age_25  Age_35  \\\n",
       "0              0            1             0              532       0       1   \n",
       "1              1            1             0             1425       1       0   \n",
       "2              0            1             0             2832       0       0   \n",
       "3              0            0             1             1352       0       1   \n",
       "4              1            1             0             1610       1       0   \n",
       "\n",
       "   Age_45  Age_60  Age_80  \n",
       "0       0       0       0  \n",
       "1       0       0       0  \n",
       "2       0       1       0  \n",
       "3       0       0       0  \n",
       "4       0       0       0  \n",
       "\n",
       "[5 rows x 25 columns]"
      ]
     },
     "metadata": {},
     "output_type": "display_data"
    }
   ],
   "source": [
    "#seperating the independant and dependant variables\n",
    "x = merged_df.drop(['ID', 'Overall_Experience', 'Departure_Delay_in_Mins', 'Arrival_Delay_in_Mins'], axis = 1)\n",
    "y = merged_df['Overall_Experience']\n",
    "\n",
    "x_test = merged_df_test.drop(['ID', 'Departure_Delay_in_Mins', 'Arrival_Delay_in_Mins'], axis = 1)\n",
    "display(x_test.head())"
   ]
  },
  {
   "attachments": {},
   "cell_type": "markdown",
   "metadata": {},
   "source": [
    "<h4> Performing z-score normalization on the numerical columns of the data frames x and x_test and assigns the normalized values to df_scaled and df_test, respectively, which helps to make the data comparable and suitable for modeling purposes.</h4>"
   ]
  },
  {
   "cell_type": "code",
   "execution_count": 275,
   "metadata": {},
   "outputs": [
    {
     "data": {
      "text/html": [
       "<div>\n",
       "<style scoped>\n",
       "    .dataframe tbody tr th:only-of-type {\n",
       "        vertical-align: middle;\n",
       "    }\n",
       "\n",
       "    .dataframe tbody tr th {\n",
       "        vertical-align: top;\n",
       "    }\n",
       "\n",
       "    .dataframe thead th {\n",
       "        text-align: right;\n",
       "    }\n",
       "</style>\n",
       "<table border=\"1\" class=\"dataframe\">\n",
       "  <thead>\n",
       "    <tr style=\"text-align: right;\">\n",
       "      <th></th>\n",
       "      <th>Seat_Comfort</th>\n",
       "      <th>Seat_Class</th>\n",
       "      <th>Arrival_Time_Convenient</th>\n",
       "      <th>Catering</th>\n",
       "      <th>Platform_Location</th>\n",
       "      <th>Onboard_Wifi_Service</th>\n",
       "      <th>Onboard_Entertainment</th>\n",
       "      <th>Online_Support</th>\n",
       "      <th>Ease_of_Online_Booking</th>\n",
       "      <th>Onboard_Service</th>\n",
       "      <th>...</th>\n",
       "      <th>Gender</th>\n",
       "      <th>Customer_Type</th>\n",
       "      <th>Type_Travel</th>\n",
       "      <th>Travel_Class</th>\n",
       "      <th>Travel_Distance</th>\n",
       "      <th>Age_25</th>\n",
       "      <th>Age_35</th>\n",
       "      <th>Age_45</th>\n",
       "      <th>Age_60</th>\n",
       "      <th>Age_80</th>\n",
       "    </tr>\n",
       "  </thead>\n",
       "  <tbody>\n",
       "    <tr>\n",
       "      <th>0</th>\n",
       "      <td>-0.602903</td>\n",
       "      <td>-0.994811</td>\n",
       "      <td>1.288950</td>\n",
       "      <td>1.549973</td>\n",
       "      <td>1.536013</td>\n",
       "      <td>0.569615</td>\n",
       "      <td>-1.027150</td>\n",
       "      <td>-0.397449</td>\n",
       "      <td>-1.126732</td>\n",
       "      <td>-1.235539</td>\n",
       "      <td>...</td>\n",
       "      <td>-0.985222</td>\n",
       "      <td>-0.445082</td>\n",
       "      <td>1.046703</td>\n",
       "      <td>-1.046703</td>\n",
       "      <td>-1.660469</td>\n",
       "      <td>-0.412272</td>\n",
       "      <td>-0.684704</td>\n",
       "      <td>1.40772</td>\n",
       "      <td>-0.478846</td>\n",
       "      <td>-0.11758</td>\n",
       "    </tr>\n",
       "    <tr>\n",
       "      <th>1</th>\n",
       "      <td>-1.321256</td>\n",
       "      <td>1.005216</td>\n",
       "      <td>1.288950</td>\n",
       "      <td>-1.356788</td>\n",
       "      <td>-0.757533</td>\n",
       "      <td>0.569615</td>\n",
       "      <td>-1.770047</td>\n",
       "      <td>0.367298</td>\n",
       "      <td>0.405697</td>\n",
       "      <td>1.213628</td>\n",
       "      <td>...</td>\n",
       "      <td>1.014999</td>\n",
       "      <td>-0.445082</td>\n",
       "      <td>-0.955380</td>\n",
       "      <td>0.955380</td>\n",
       "      <td>0.215099</td>\n",
       "      <td>-0.412272</td>\n",
       "      <td>-0.684704</td>\n",
       "      <td>1.40772</td>\n",
       "      <td>-0.478846</td>\n",
       "      <td>-0.11758</td>\n",
       "    </tr>\n",
       "    <tr>\n",
       "      <th>2</th>\n",
       "      <td>-0.602903</td>\n",
       "      <td>-0.994811</td>\n",
       "      <td>-0.735667</td>\n",
       "      <td>-0.630097</td>\n",
       "      <td>-0.757533</td>\n",
       "      <td>-0.946258</td>\n",
       "      <td>0.458644</td>\n",
       "      <td>1.132046</td>\n",
       "      <td>1.171912</td>\n",
       "      <td>1.213628</td>\n",
       "      <td>...</td>\n",
       "      <td>-0.985222</td>\n",
       "      <td>-0.445082</td>\n",
       "      <td>1.046703</td>\n",
       "      <td>-1.046703</td>\n",
       "      <td>-0.892926</td>\n",
       "      <td>-0.412272</td>\n",
       "      <td>-0.684704</td>\n",
       "      <td>1.40772</td>\n",
       "      <td>-0.478846</td>\n",
       "      <td>-0.11758</td>\n",
       "    </tr>\n",
       "    <tr>\n",
       "      <th>3</th>\n",
       "      <td>0.115449</td>\n",
       "      <td>1.005216</td>\n",
       "      <td>-0.735667</td>\n",
       "      <td>0.096593</td>\n",
       "      <td>-0.757533</td>\n",
       "      <td>-0.188322</td>\n",
       "      <td>-1.027150</td>\n",
       "      <td>-0.397449</td>\n",
       "      <td>-0.360518</td>\n",
       "      <td>-0.419150</td>\n",
       "      <td>...</td>\n",
       "      <td>-0.985222</td>\n",
       "      <td>-0.445082</td>\n",
       "      <td>1.046703</td>\n",
       "      <td>-1.046703</td>\n",
       "      <td>-1.166284</td>\n",
       "      <td>-0.412272</td>\n",
       "      <td>-0.684704</td>\n",
       "      <td>1.40772</td>\n",
       "      <td>-0.478846</td>\n",
       "      <td>-0.11758</td>\n",
       "    </tr>\n",
       "    <tr>\n",
       "      <th>4</th>\n",
       "      <td>0.115449</td>\n",
       "      <td>1.005216</td>\n",
       "      <td>-0.060795</td>\n",
       "      <td>0.096593</td>\n",
       "      <td>0.006983</td>\n",
       "      <td>-0.946258</td>\n",
       "      <td>0.458644</td>\n",
       "      <td>1.132046</td>\n",
       "      <td>0.405697</td>\n",
       "      <td>0.397239</td>\n",
       "      <td>...</td>\n",
       "      <td>-0.985222</td>\n",
       "      <td>-0.445082</td>\n",
       "      <td>1.046703</td>\n",
       "      <td>-1.046703</td>\n",
       "      <td>0.002054</td>\n",
       "      <td>-0.412272</td>\n",
       "      <td>-0.684704</td>\n",
       "      <td>1.40772</td>\n",
       "      <td>-0.478846</td>\n",
       "      <td>-0.11758</td>\n",
       "    </tr>\n",
       "  </tbody>\n",
       "</table>\n",
       "<p>5 rows × 25 columns</p>\n",
       "</div>"
      ],
      "text/plain": [
       "   Seat_Comfort  Seat_Class  Arrival_Time_Convenient  Catering  \\\n",
       "0     -0.602903   -0.994811                 1.288950  1.549973   \n",
       "1     -1.321256    1.005216                 1.288950 -1.356788   \n",
       "2     -0.602903   -0.994811                -0.735667 -0.630097   \n",
       "3      0.115449    1.005216                -0.735667  0.096593   \n",
       "4      0.115449    1.005216                -0.060795  0.096593   \n",
       "\n",
       "   Platform_Location  Onboard_Wifi_Service  Onboard_Entertainment  \\\n",
       "0           1.536013              0.569615              -1.027150   \n",
       "1          -0.757533              0.569615              -1.770047   \n",
       "2          -0.757533             -0.946258               0.458644   \n",
       "3          -0.757533             -0.188322              -1.027150   \n",
       "4           0.006983             -0.946258               0.458644   \n",
       "\n",
       "   Online_Support  Ease_of_Online_Booking  Onboard_Service  ...    Gender  \\\n",
       "0       -0.397449               -1.126732        -1.235539  ... -0.985222   \n",
       "1        0.367298                0.405697         1.213628  ...  1.014999   \n",
       "2        1.132046                1.171912         1.213628  ... -0.985222   \n",
       "3       -0.397449               -0.360518        -0.419150  ... -0.985222   \n",
       "4        1.132046                0.405697         0.397239  ... -0.985222   \n",
       "\n",
       "   Customer_Type  Type_Travel  Travel_Class  Travel_Distance    Age_25  \\\n",
       "0      -0.445082     1.046703     -1.046703        -1.660469 -0.412272   \n",
       "1      -0.445082    -0.955380      0.955380         0.215099 -0.412272   \n",
       "2      -0.445082     1.046703     -1.046703        -0.892926 -0.412272   \n",
       "3      -0.445082     1.046703     -1.046703        -1.166284 -0.412272   \n",
       "4      -0.445082     1.046703     -1.046703         0.002054 -0.412272   \n",
       "\n",
       "     Age_35   Age_45    Age_60   Age_80  \n",
       "0 -0.684704  1.40772 -0.478846 -0.11758  \n",
       "1 -0.684704  1.40772 -0.478846 -0.11758  \n",
       "2 -0.684704  1.40772 -0.478846 -0.11758  \n",
       "3 -0.684704  1.40772 -0.478846 -0.11758  \n",
       "4 -0.684704  1.40772 -0.478846 -0.11758  \n",
       "\n",
       "[5 rows x 25 columns]"
      ]
     },
     "metadata": {},
     "output_type": "display_data"
    },
    {
     "data": {
      "text/html": [
       "<div>\n",
       "<style scoped>\n",
       "    .dataframe tbody tr th:only-of-type {\n",
       "        vertical-align: middle;\n",
       "    }\n",
       "\n",
       "    .dataframe tbody tr th {\n",
       "        vertical-align: top;\n",
       "    }\n",
       "\n",
       "    .dataframe thead th {\n",
       "        text-align: right;\n",
       "    }\n",
       "</style>\n",
       "<table border=\"1\" class=\"dataframe\">\n",
       "  <thead>\n",
       "    <tr style=\"text-align: right;\">\n",
       "      <th></th>\n",
       "      <th>Seat_Comfort</th>\n",
       "      <th>Seat_Class</th>\n",
       "      <th>Arrival_Time_Convenient</th>\n",
       "      <th>Catering</th>\n",
       "      <th>Platform_Location</th>\n",
       "      <th>Onboard_Wifi_Service</th>\n",
       "      <th>Onboard_Entertainment</th>\n",
       "      <th>Online_Support</th>\n",
       "      <th>Ease_of_Online_Booking</th>\n",
       "      <th>Onboard_Service</th>\n",
       "      <th>...</th>\n",
       "      <th>Gender</th>\n",
       "      <th>Customer_Type</th>\n",
       "      <th>Type_Travel</th>\n",
       "      <th>Travel_Class</th>\n",
       "      <th>Travel_Distance</th>\n",
       "      <th>Age_25</th>\n",
       "      <th>Age_35</th>\n",
       "      <th>Age_45</th>\n",
       "      <th>Age_60</th>\n",
       "      <th>Age_80</th>\n",
       "    </tr>\n",
       "  </thead>\n",
       "  <tbody>\n",
       "    <tr>\n",
       "      <th>0</th>\n",
       "      <td>0.117190</td>\n",
       "      <td>-1.003320</td>\n",
       "      <td>-0.055289</td>\n",
       "      <td>0.098743</td>\n",
       "      <td>0.008010</td>\n",
       "      <td>-0.950595</td>\n",
       "      <td>1.200083</td>\n",
       "      <td>0.367859</td>\n",
       "      <td>1.166951</td>\n",
       "      <td>1.218455</td>\n",
       "      <td>...</td>\n",
       "      <td>-0.983397</td>\n",
       "      <td>-0.444331</td>\n",
       "      <td>1.038491</td>\n",
       "      <td>-1.038491</td>\n",
       "      <td>-1.420638</td>\n",
       "      <td>-0.413432</td>\n",
       "      <td>1.459682</td>\n",
       "      <td>-0.706154</td>\n",
       "      <td>-0.483377</td>\n",
       "      <td>-0.112378</td>\n",
       "    </tr>\n",
       "    <tr>\n",
       "      <th>1</th>\n",
       "      <td>-2.036384</td>\n",
       "      <td>0.996691</td>\n",
       "      <td>0.620210</td>\n",
       "      <td>-1.357833</td>\n",
       "      <td>0.008010</td>\n",
       "      <td>-0.191237</td>\n",
       "      <td>-1.773978</td>\n",
       "      <td>-0.400356</td>\n",
       "      <td>-0.365284</td>\n",
       "      <td>1.218455</td>\n",
       "      <td>...</td>\n",
       "      <td>-0.983397</td>\n",
       "      <td>2.250573</td>\n",
       "      <td>1.038491</td>\n",
       "      <td>-1.038491</td>\n",
       "      <td>-0.548819</td>\n",
       "      <td>2.418779</td>\n",
       "      <td>-0.685081</td>\n",
       "      <td>-0.706154</td>\n",
       "      <td>-0.483377</td>\n",
       "      <td>-0.112378</td>\n",
       "    </tr>\n",
       "    <tr>\n",
       "      <th>2</th>\n",
       "      <td>1.552905</td>\n",
       "      <td>0.996691</td>\n",
       "      <td>1.295708</td>\n",
       "      <td>1.555318</td>\n",
       "      <td>1.545325</td>\n",
       "      <td>1.327480</td>\n",
       "      <td>1.200083</td>\n",
       "      <td>1.136075</td>\n",
       "      <td>-1.131402</td>\n",
       "      <td>-1.216905</td>\n",
       "      <td>...</td>\n",
       "      <td>1.016883</td>\n",
       "      <td>-0.444331</td>\n",
       "      <td>1.038491</td>\n",
       "      <td>-1.038491</td>\n",
       "      <td>0.824810</td>\n",
       "      <td>-0.413432</td>\n",
       "      <td>-0.685081</td>\n",
       "      <td>-0.706154</td>\n",
       "      <td>2.068779</td>\n",
       "      <td>-0.112378</td>\n",
       "    </tr>\n",
       "    <tr>\n",
       "      <th>3</th>\n",
       "      <td>0.117190</td>\n",
       "      <td>-1.003320</td>\n",
       "      <td>1.295708</td>\n",
       "      <td>0.098743</td>\n",
       "      <td>1.545325</td>\n",
       "      <td>-1.709954</td>\n",
       "      <td>-0.286947</td>\n",
       "      <td>1.136075</td>\n",
       "      <td>-1.897520</td>\n",
       "      <td>-0.405118</td>\n",
       "      <td>...</td>\n",
       "      <td>-0.983397</td>\n",
       "      <td>-0.444331</td>\n",
       "      <td>-0.962936</td>\n",
       "      <td>0.962936</td>\n",
       "      <td>-0.620087</td>\n",
       "      <td>-0.413432</td>\n",
       "      <td>1.459682</td>\n",
       "      <td>-0.706154</td>\n",
       "      <td>-0.483377</td>\n",
       "      <td>-0.112378</td>\n",
       "    </tr>\n",
       "    <tr>\n",
       "      <th>4</th>\n",
       "      <td>1.552905</td>\n",
       "      <td>0.996691</td>\n",
       "      <td>-2.081785</td>\n",
       "      <td>1.555318</td>\n",
       "      <td>-0.760648</td>\n",
       "      <td>1.327480</td>\n",
       "      <td>1.200083</td>\n",
       "      <td>1.136075</td>\n",
       "      <td>1.166951</td>\n",
       "      <td>0.406669</td>\n",
       "      <td>...</td>\n",
       "      <td>1.016883</td>\n",
       "      <td>2.250573</td>\n",
       "      <td>1.038491</td>\n",
       "      <td>-1.038491</td>\n",
       "      <td>-0.368206</td>\n",
       "      <td>2.418779</td>\n",
       "      <td>-0.685081</td>\n",
       "      <td>-0.706154</td>\n",
       "      <td>-0.483377</td>\n",
       "      <td>-0.112378</td>\n",
       "    </tr>\n",
       "  </tbody>\n",
       "</table>\n",
       "<p>5 rows × 25 columns</p>\n",
       "</div>"
      ],
      "text/plain": [
       "   Seat_Comfort  Seat_Class  Arrival_Time_Convenient  Catering  \\\n",
       "0      0.117190   -1.003320                -0.055289  0.098743   \n",
       "1     -2.036384    0.996691                 0.620210 -1.357833   \n",
       "2      1.552905    0.996691                 1.295708  1.555318   \n",
       "3      0.117190   -1.003320                 1.295708  0.098743   \n",
       "4      1.552905    0.996691                -2.081785  1.555318   \n",
       "\n",
       "   Platform_Location  Onboard_Wifi_Service  Onboard_Entertainment  \\\n",
       "0           0.008010             -0.950595               1.200083   \n",
       "1           0.008010             -0.191237              -1.773978   \n",
       "2           1.545325              1.327480               1.200083   \n",
       "3           1.545325             -1.709954              -0.286947   \n",
       "4          -0.760648              1.327480               1.200083   \n",
       "\n",
       "   Online_Support  Ease_of_Online_Booking  Onboard_Service  ...    Gender  \\\n",
       "0        0.367859                1.166951         1.218455  ... -0.983397   \n",
       "1       -0.400356               -0.365284         1.218455  ... -0.983397   \n",
       "2        1.136075               -1.131402        -1.216905  ...  1.016883   \n",
       "3        1.136075               -1.897520        -0.405118  ... -0.983397   \n",
       "4        1.136075                1.166951         0.406669  ...  1.016883   \n",
       "\n",
       "   Customer_Type  Type_Travel  Travel_Class  Travel_Distance    Age_25  \\\n",
       "0      -0.444331     1.038491     -1.038491        -1.420638 -0.413432   \n",
       "1       2.250573     1.038491     -1.038491        -0.548819  2.418779   \n",
       "2      -0.444331     1.038491     -1.038491         0.824810 -0.413432   \n",
       "3      -0.444331    -0.962936      0.962936        -0.620087 -0.413432   \n",
       "4       2.250573     1.038491     -1.038491        -0.368206  2.418779   \n",
       "\n",
       "     Age_35    Age_45    Age_60    Age_80  \n",
       "0  1.459682 -0.706154 -0.483377 -0.112378  \n",
       "1 -0.685081 -0.706154 -0.483377 -0.112378  \n",
       "2 -0.685081 -0.706154  2.068779 -0.112378  \n",
       "3  1.459682 -0.706154 -0.483377 -0.112378  \n",
       "4 -0.685081 -0.706154 -0.483377 -0.112378  \n",
       "\n",
       "[5 rows x 25 columns]"
      ]
     },
     "metadata": {},
     "output_type": "display_data"
    }
   ],
   "source": [
    "#scaling the data sets with zscores\n",
    "from scipy.stats import zscore\n",
    "df_scaled = x.apply(zscore)\n",
    "display(df_scaled.head())\n",
    "\n",
    "\n",
    "df_test = x_test.apply(zscore)\n",
    "display(df_test.head())"
   ]
  },
  {
   "cell_type": "code",
   "execution_count": 276,
   "metadata": {},
   "outputs": [
    {
     "data": {
      "text/plain": [
       "(75503, 25)"
      ]
     },
     "metadata": {},
     "output_type": "display_data"
    },
    {
     "data": {
      "text/plain": [
       "(18876, 25)"
      ]
     },
     "metadata": {},
     "output_type": "display_data"
    },
    {
     "data": {
      "text/plain": [
       "(75503,)"
      ]
     },
     "metadata": {},
     "output_type": "display_data"
    },
    {
     "data": {
      "text/plain": [
       "(18876,)"
      ]
     },
     "metadata": {},
     "output_type": "display_data"
    }
   ],
   "source": [
    "#performing train-test split of (80:20) on the training data\n",
    "X_train, X_test, Y_train, Y_test = train_test_split(df_scaled, y, test_size= 0.20, random_state=13)\n",
    "\n",
    "display(X_train.shape)\n",
    "display(X_test.shape)\n",
    "display(Y_train.shape)\n",
    "display(Y_test.shape)"
   ]
  },
  {
   "cell_type": "code",
   "execution_count": 280,
   "metadata": {},
   "outputs": [],
   "source": [
    "#initial 2 classifiers\n",
    "rf = RandomForestClassifier(n_estimators=220, max_depth=20, max_features=15, random_state=100)\n",
    "dTree = DecisionTreeClassifier(random_state=9, max_depth=15)\n",
    "\n",
    "ada1 = AdaBoostClassifier(base_estimator=rf, n_estimators=22, learning_rate=0.1, random_state=88)\n",
    "ada2 = AdaBoostClassifier(base_estimator=dTree, n_estimators=20, learning_rate=0.1, random_state=88)\n",
    "bgg = BaggingClassifier(random_state=5)\n",
    "bgg1 = BaggingClassifier(base_estimator=dTree, n_estimators=50, random_state=500, max_features=10)\n",
    "dTree1 = DecisionTreeClassifier(random_state=9, max_depth=15, min_samples_split=75, min_samples_leaf=15)\n",
    "gb = GaussianNB()\n",
    "grad = GradientBoostingClassifier(random_state=3000, learning_rate=0.1, n_estimators=100)\n",
    "lr = LogisticRegression(random_state=100, penalty='l2', tol=0.0001)\n",
    "lr1 = LogisticRegression(random_state=70, penalty='l1', solver='saga', tol=0.0001)\n",
    "rf1 = RandomForestClassifier(n_estimators=100, random_state=100)"
   ]
  },
  {
   "cell_type": "code",
   "execution_count": 282,
   "metadata": {},
   "outputs": [
    {
     "data": {
      "text/plain": [
       "0.9987152828364436"
      ]
     },
     "metadata": {},
     "output_type": "display_data"
    },
    {
     "data": {
      "text/plain": [
       "1.0"
      ]
     },
     "metadata": {},
     "output_type": "display_data"
    },
    {
     "data": {
      "text/plain": [
       "0.8149080168999907"
      ]
     },
     "metadata": {},
     "output_type": "display_data"
    },
    {
     "data": {
      "text/plain": [
       "0.8307352025747321"
      ]
     },
     "metadata": {},
     "output_type": "display_data"
    },
    {
     "data": {
      "text/plain": [
       "0.8307352025747321"
      ]
     },
     "metadata": {},
     "output_type": "display_data"
    },
    {
     "data": {
      "text/plain": [
       "0.9962385600572162"
      ]
     },
     "metadata": {},
     "output_type": "display_data"
    },
    {
     "data": {
      "text/plain": [
       "0.9637365402699231"
      ]
     },
     "metadata": {},
     "output_type": "display_data"
    },
    {
     "data": {
      "text/plain": [
       "0.9148245765068937"
      ]
     },
     "metadata": {},
     "output_type": "display_data"
    },
    {
     "data": {
      "text/plain": [
       "0.9657232162960412"
      ]
     },
     "metadata": {},
     "output_type": "display_data"
    },
    {
     "data": {
      "text/plain": [
       "0.9365985457531489"
      ]
     },
     "metadata": {},
     "output_type": "display_data"
    },
    {
     "data": {
      "text/plain": [
       "0.9943710845926652"
      ]
     },
     "metadata": {},
     "output_type": "display_data"
    },
    {
     "data": {
      "text/plain": [
       "1.0"
      ]
     },
     "metadata": {},
     "output_type": "display_data"
    }
   ],
   "source": [
    "model = [ada1, ada2, gb, lr, lr1, bgg, bgg1, grad, dTree, dTree1, rf, rf1]\n",
    "\n",
    "for i in model: #accuracy on train set from training data\n",
    "    i.fit(X_train , Y_train)\n",
    "    y_predict = i.predict(X_train)\n",
    "    display(accuracy_score(Y_train, y_predict))"
   ]
  },
  {
   "cell_type": "code",
   "execution_count": 283,
   "metadata": {},
   "outputs": [
    {
     "data": {
      "text/plain": [
       "0.9502542911633821"
      ]
     },
     "metadata": {},
     "output_type": "display_data"
    },
    {
     "data": {
      "text/plain": [
       "0.9395528713710531"
      ]
     },
     "metadata": {},
     "output_type": "display_data"
    },
    {
     "data": {
      "text/plain": [
       "0.8155329518965883"
      ]
     },
     "metadata": {},
     "output_type": "display_data"
    },
    {
     "data": {
      "text/plain": [
       "0.8319559228650137"
      ]
     },
     "metadata": {},
     "output_type": "display_data"
    },
    {
     "data": {
      "text/plain": [
       "0.8320089001907184"
      ]
     },
     "metadata": {},
     "output_type": "display_data"
    },
    {
     "data": {
      "text/plain": [
       "0.9404005085823267"
      ]
     },
     "metadata": {},
     "output_type": "display_data"
    },
    {
     "data": {
      "text/plain": [
       "0.9296990887899979"
      ]
     },
     "metadata": {},
     "output_type": "display_data"
    },
    {
     "data": {
      "text/plain": [
       "0.9163488027124391"
      ]
     },
     "metadata": {},
     "output_type": "display_data"
    },
    {
     "data": {
      "text/plain": [
       "0.9304407713498623"
      ]
     },
     "metadata": {},
     "output_type": "display_data"
    },
    {
     "data": {
      "text/plain": [
       "0.9303348166984531"
      ]
     },
     "metadata": {},
     "output_type": "display_data"
    },
    {
     "data": {
      "text/plain": [
       "0.9502542911633821"
      ]
     },
     "metadata": {},
     "output_type": "display_data"
    },
    {
     "data": {
      "text/plain": [
       "0.948823903369358"
      ]
     },
     "metadata": {},
     "output_type": "display_data"
    }
   ],
   "source": [
    "for i in model:  #accuracy on test set from training data\n",
    "    i.fit(X_train , Y_train)\n",
    "    y_predict_test = i.predict(X_test)\n",
    "    display(accuracy_score(Y_test, y_predict_test))"
   ]
  },
  {
   "cell_type": "code",
   "execution_count": 356,
   "metadata": {},
   "outputs": [],
   "source": [
    "df_test1 = merged_df_test.copy()\n",
    "rf.fit(X_train, Y_train)\n",
    "\n",
    "prob = rf.predict_proba(df_test)\n",
    "pred = rf.predict(df_test)\n",
    "\n",
    "for i in range(0,35602):\n",
    "    if(prob[i, 1] > 0.55):\n",
    "        pred[i] = 1 \n",
    "        \n",
    "df_test1['Overall_Experience'] = pred\n",
    "sample = df_test1[['ID', 'Overall_Experience']]\n",
    "sample.to_csv('sample.csv')"
   ]
  },
  {
   "cell_type": "code",
   "execution_count": 351,
   "metadata": {},
   "outputs": [
    {
     "data": {
      "text/plain": [
       "1.0"
      ]
     },
     "metadata": {},
     "output_type": "display_data"
    },
    {
     "data": {
      "text/plain": [
       "0.9507840644204281"
      ]
     },
     "metadata": {},
     "output_type": "display_data"
    }
   ],
   "source": [
    "ada1 = AdaBoostClassifier(base_estimator=rf, n_estimators=32, learning_rate=0.1, random_state= 88)\n",
    "ada1.fit(X_train, Y_train)\n",
    "prob = ada1.predict_proba(X_test)\n",
    "y_predict_test = ada1.predict(X_test)\n",
    "\n",
    "for i in range(0,18876):\n",
    "    if(prob[i, 1] > 0.60):\n",
    "        y_predict_test[i] = 1\n",
    "\n",
    "y_predict = ada1.predict(X_train)\n",
    "display(accuracy_score(Y_train, y_predict))\n",
    "\n",
    "y_predict_test = ada1.predict(X_test)\n",
    "display(accuracy_score(Y_test, y_predict_test))"
   ]
  },
  {
   "attachments": {},
   "cell_type": "markdown",
   "metadata": {},
   "source": [
    "## Key findings\n",
    "\n",
    "The output displays the accuracy scores of 12 different models on the test set. \n",
    "\n",
    "1. The highest accuracy score is 0.950, which was achieved by two models: AdaBoost with default parameters (ada1) and AdaBoost with a learning rate of 0.1 (ada2).\n",
    "\n",
    "2. The lowest accuracy score is 0.815, which was achieved by the Gradient Boosting model (gb).\n",
    "\n",
    "3. The Logistic Regression model (lr) and Random Forest model with default parameters (rf) both achieved an accuracy score of 0.930.\n",
    "\n",
    "4. while the other models fell somewhere in between. Overall, the AdaBoost models appear to perform the best on this particular dataset, with an accuracy of 95%"
   ]
  },
  {
   "cell_type": "code",
   "execution_count": null,
   "metadata": {},
   "outputs": [],
   "source": [
    "# create output csv file with predictions for each customer\n",
    "df_testada = merged_df_test.copy()\n",
    "pred = ada1.predict(df_test)\n",
    "df_testada['Overall_Experience'] = pred\n",
    "sample = df_testada[['ID', 'Overall_Experience']]\n",
    "\n",
    "sample.to_csv('sample_3.csv')"
   ]
  }
 ],
 "metadata": {
  "kernelspec": {
   "display_name": "base",
   "language": "python",
   "name": "python3"
  },
  "language_info": {
   "codemirror_mode": {
    "name": "ipython",
    "version": 3
   },
   "file_extension": ".py",
   "mimetype": "text/x-python",
   "name": "python",
   "nbconvert_exporter": "python",
   "pygments_lexer": "ipython3",
   "version": "3.9.13"
  },
  "orig_nbformat": 4,
  "vscode": {
   "interpreter": {
    "hash": "5941641bc504bc27fafb3cc8c979939699758aec0273121dcdaf46fbb4577b5e"
   }
  }
 },
 "nbformat": 4,
 "nbformat_minor": 2
}
